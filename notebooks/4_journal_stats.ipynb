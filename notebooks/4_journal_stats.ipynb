{
 "cells": [
  {
   "cell_type": "code",
   "execution_count": 107,
   "metadata": {
    "collapsed": false
   },
   "outputs": [],
   "source": [
    "%matplotlib inline\n",
    "import os, io, json, urllib, numpy as np, codecs, math, collections\n",
    "import glob, pandas as pd\n",
    "pd.options.display.max_rows = 999\n",
    "import pickle"
   ]
  },
  {
   "cell_type": "code",
   "execution_count": 35,
   "metadata": {
    "collapsed": true
   },
   "outputs": [],
   "source": [
    "this_month='1711'\n",
    "data_path='../data/'+this_month\n",
    "last_year=6"
   ]
  },
  {
   "cell_type": "code",
   "execution_count": 36,
   "metadata": {
    "collapsed": true
   },
   "outputs": [],
   "source": [
    "def h_(citation):\n",
    "    citation=list(citation)\n",
    "    h=0\n",
    "    citation.sort(reverse=True)\n",
    "    for i in range(1,len(citation)+1):\n",
    "        if citation[i-1] >= i:\n",
    "            h=i\n",
    "    return h"
   ]
  },
  {
   "cell_type": "code",
   "execution_count": 37,
   "metadata": {
    "collapsed": false
   },
   "outputs": [
    {
     "data": {
      "text/plain": [
       "(7337746, 15)"
      ]
     },
     "execution_count": 37,
     "metadata": {},
     "output_type": "execute_result"
    }
   ],
   "source": [
    "df=pd.read_csv(data_path+'/cleaned.csv')\n",
    "df.shape"
   ]
  },
  {
   "cell_type": "code",
   "execution_count": 38,
   "metadata": {
    "collapsed": false
   },
   "outputs": [
    {
     "data": {
      "text/plain": [
       "(7337746, 15)"
      ]
     },
     "execution_count": 38,
     "metadata": {},
     "output_type": "execute_result"
    }
   ],
   "source": [
    "#df['year']=df['year'].str[1:5].astype(int)\n",
    "df=df[df.year<2017]\n",
    "df.shape"
   ]
  },
  {
   "cell_type": "code",
   "execution_count": 39,
   "metadata": {
    "collapsed": false
   },
   "outputs": [],
   "source": [
    "df2=df\n",
    "df2['@id']=df2.main_issn"
   ]
  },
  {
   "cell_type": "code",
   "execution_count": 40,
   "metadata": {
    "collapsed": false
   },
   "outputs": [
    {
     "data": {
      "text/plain": [
       "(98146, 5)"
      ]
     },
     "execution_count": 40,
     "metadata": {},
     "output_type": "execute_result"
    }
   ],
   "source": [
    "dg=df2.groupby(['@id','year']).agg({'count':sum,'citation':sum}).reset_index()\n",
    "dg['impact']=dg['citation'].div(dg['count']).round(2)\n",
    "dg.shape"
   ]
  },
  {
   "cell_type": "code",
   "execution_count": 41,
   "metadata": {
    "collapsed": false
   },
   "outputs": [
    {
     "data": {
      "text/plain": [
       "(39542, 3)"
      ]
     },
     "execution_count": 41,
     "metadata": {},
     "output_type": "execute_result"
    }
   ],
   "source": [
    "dg_h=df2[['@id','citation']].groupby(['@id']).agg(lambda x:tuple(x)).reset_index()\n",
    "dg_h['h']=dg_h.citation.apply(lambda x: h_(x))\n",
    "dg_h.shape"
   ]
  },
  {
   "cell_type": "code",
   "execution_count": 42,
   "metadata": {
    "collapsed": false
   },
   "outputs": [
    {
     "data": {
      "text/plain": [
       "(39542, 4)"
      ]
     },
     "execution_count": 42,
     "metadata": {},
     "output_type": "execute_result"
    }
   ],
   "source": [
    "dg_i=df2.groupby(['@id']).agg({'count':sum,'citation':sum}).reset_index()\n",
    "dg_i['impact']=dg_i['citation'].div(dg_i['count']).round(2)\n",
    "dg_i.shape"
   ]
  },
  {
   "cell_type": "code",
   "execution_count": 43,
   "metadata": {
    "collapsed": false
   },
   "outputs": [],
   "source": [
    "dg_flat=dg.pivot(index='@id',columns='year')\n",
    "dg_flat.columns = [col[0]+'_'+str(col[1])[3] for col in dg_flat.columns.values]\n",
    "dg_flat=dg_flat.reset_index()"
   ]
  },
  {
   "cell_type": "code",
   "execution_count": 44,
   "metadata": {
    "collapsed": false
   },
   "outputs": [
    {
     "data": {
      "text/plain": [
       "(39542, 14)"
      ]
     },
     "execution_count": 44,
     "metadata": {},
     "output_type": "execute_result"
    }
   ],
   "source": [
    "dg_merge=dg_flat.merge(dg_i[['@id','count','citation','impact']])\\\n",
    ".merge(dg_h[['@id','h']]).fillna(0,downcast='infer')\n",
    "dg_merge.shape"
   ]
  },
  {
   "cell_type": "code",
   "execution_count": 45,
   "metadata": {
    "collapsed": false
   },
   "outputs": [],
   "source": [
    "work_batches=dg_merge.shape[0]/10000\n",
    "for s in range(work_batches+1):\n",
    "    dic=[]\n",
    "    for index, i in dg_merge[10000*s:10000*(s+1)].iterrows():\n",
    "        journal={}\n",
    "        journal['@id']=i['@id']\n",
    "        for y in range(4,last_year): \n",
    "            journal['e:count_'+str(y)]=i['count_'+str(y)]\n",
    "            journal['e:citation_'+str(y)]=i['citation_'+str(y)]\n",
    "            journal['e:impact_'+str(y)]=round(i['impact_'+str(y)],2)\n",
    "        journal['e:count']=i['count']\n",
    "        journal['e:citation']=i['citation']\n",
    "        journal['e:impact']=round(i['impact'],2)\n",
    "        journal['e:h']=i['h']\n",
    "        if journal not in dic:\n",
    "            dic.append(journal)\n",
    "    with open('../jsonld/'+this_month+'/'+str(s)+'_from_works.jsonld', 'w') as outfile:\n",
    "        json.dump(dic, outfile)"
   ]
  },
  {
   "cell_type": "code",
   "execution_count": 46,
   "metadata": {
    "collapsed": false
   },
   "outputs": [],
   "source": [
    "with open(data_path +'/journals.pkl', 'rb') as f:\n",
    "    dic=pickle.load(f)"
   ]
  },
  {
   "cell_type": "code",
   "execution_count": 47,
   "metadata": {
    "collapsed": false
   },
   "outputs": [
    {
     "data": {
      "text/plain": [
       "330"
      ]
     },
     "execution_count": 47,
     "metadata": {},
     "output_type": "execute_result"
    }
   ],
   "source": [
    "unique_subjects=[]\n",
    "for j in dic:\n",
    "    for s in j['e:subjects']: \n",
    "        if s not in unique_subjects: \n",
    "            unique_subjects.append(s)\n",
    "len(unique_subjects)  "
   ]
  },
  {
   "cell_type": "code",
   "execution_count": 48,
   "metadata": {
    "collapsed": true
   },
   "outputs": [],
   "source": [
    "pd.DataFrame(unique_subjects).to_csv('../store/unique_subjects.csv',header=False,index=False,encoding='utf-8')"
   ]
  },
  {
   "cell_type": "code",
   "execution_count": 49,
   "metadata": {
    "collapsed": true
   },
   "outputs": [],
   "source": [
    "main_issns=pd.read_csv('../store/main_issns.csv',header=None)\n",
    "main_issns=main_issns[0].values"
   ]
  },
  {
   "cell_type": "code",
   "execution_count": 50,
   "metadata": {
    "collapsed": false
   },
   "outputs": [],
   "source": [
    "with open('..\\web\\cats.json') as data_file:    \n",
    "    cat_subject=json.load(data_file)"
   ]
  },
  {
   "cell_type": "code",
   "execution_count": 51,
   "metadata": {
    "collapsed": false
   },
   "outputs": [],
   "source": [
    "sub_cat={}\n",
    "for cat in cat_subject.keys():\n",
    "    for sub in cat_subject[cat].split(';'):\n",
    "        sub_cat[sub]=cat"
   ]
  },
  {
   "cell_type": "code",
   "execution_count": 52,
   "metadata": {
    "collapsed": false
   },
   "outputs": [
    {
     "name": "stdout",
     "output_type": "stream",
     "text": [
      "1 2 3 4 5 6 7 8 9 10 11 12 13 14 15 16 17 18 19 20 21 22 23 24 25 26 27 28 29 30 31 32 33 34 35 36 37 38 39 40 41 42 43 44 45 46 47 48 49 50 51 52 53"
     ]
    },
    {
     "data": {
      "text/plain": [
       "39015"
      ]
     },
     "execution_count": 52,
     "metadata": {},
     "output_type": "execute_result"
    },
    {
     "name": "stdout",
     "output_type": "stream",
     "text": [
      "\n"
     ]
    }
   ],
   "source": [
    "dic_new=[]; i=0\n",
    "for j in dic:\n",
    "    i=i+1;\n",
    "    if i%1000==0: print i/1000,\n",
    "    j_new=j\n",
    "    j_new['e:category']=[]\n",
    "    for subject in j['e:subjects']:\n",
    "        cat=sub_cat[subject]\n",
    "        if cat not in j_new['e:category']:\n",
    "            j_new['e:category'].append(sub_cat[subject])\n",
    "    if j['e:issn'][0] in main_issns:        \n",
    "        j_new['@id']=j['e:issn'][0]\n",
    "        dic_new.append(j_new)    \n",
    "    elif len(j['e:issn'])>1:\n",
    "        if j['e:issn'][1] in main_issns:\n",
    "            j_new['@id']=j['e:issn'][1]\n",
    "            dic_new.append(j_new)  \n",
    "len(dic_new)        "
   ]
  },
  {
   "cell_type": "code",
   "execution_count": 56,
   "metadata": {
    "collapsed": true
   },
   "outputs": [],
   "source": [
    "doaj_df = pd.read_csv('../store/doaj_20171126_1530_utf8.csv')"
   ]
  },
  {
   "cell_type": "code",
   "execution_count": 57,
   "metadata": {
    "collapsed": false
   },
   "outputs": [],
   "source": [
    "doaj_print=doaj_df['Journal ISSN (print version)'].values\n",
    "doaj_online=doaj_df['Journal EISSN (online version)'].values\n",
    "doaj_issns=np.concatenate([doaj_print,doaj_online])\n",
    "doaj_issns=list(set(doaj_issns))"
   ]
  },
  {
   "cell_type": "code",
   "execution_count": 58,
   "metadata": {
    "collapsed": false
   },
   "outputs": [
    {
     "data": {
      "text/plain": [
       "6654"
      ]
     },
     "execution_count": 58,
     "metadata": {},
     "output_type": "execute_result"
    }
   ],
   "source": [
    "dic_open=[]\n",
    "i=0\n",
    "cat=0\n",
    "for journal in dic_new:\n",
    "    for issn in journal['e:issn']:\n",
    "        if issn in doaj_issns:\n",
    "            i+=1 \n",
    "            if len(journal['e:category']) >0:\n",
    "                cat+=1\n",
    "            journal['e:open']=1\n",
    "            journal['e:road_url']=doaj_issns[doaj_issns.index(issn)]\n",
    "            dic_open.append(journal)\n",
    "            break    \n",
    "i"
   ]
  },
  {
   "cell_type": "code",
   "execution_count": 59,
   "metadata": {
    "collapsed": false
   },
   "outputs": [
    {
     "data": {
      "text/plain": [
       "2133"
      ]
     },
     "execution_count": 59,
     "metadata": {},
     "output_type": "execute_result"
    }
   ],
   "source": [
    "cat"
   ]
  },
  {
   "cell_type": "code",
   "execution_count": 60,
   "metadata": {
    "collapsed": true
   },
   "outputs": [],
   "source": [
    "journal_batches=len(dic_open)/10000\n",
    "for s in range(journal_batches+1):\n",
    "    dic_chunk=dic_open[10000*s:10000*(s+1)]\n",
    "    with open('../jsonld/'+this_month+'/'+str(s)+'_from_journals.jsonld', 'w') as outfile:\n",
    "        json.dump(dic_chunk, outfile)"
   ]
  },
  {
   "cell_type": "code",
   "execution_count": null,
   "metadata": {
    "collapsed": true
   },
   "outputs": [],
   "source": []
  },
  {
   "cell_type": "code",
   "execution_count": 93,
   "metadata": {
    "collapsed": true
   },
   "outputs": [],
   "source": [
    "doaj_df.Subjects.fillna('',inplace=True)"
   ]
  },
  {
   "cell_type": "code",
   "execution_count": 205,
   "metadata": {
    "collapsed": false
   },
   "outputs": [],
   "source": [
    "l=doaj_df.Subjects.values"
   ]
  },
  {
   "cell_type": "code",
   "execution_count": 247,
   "metadata": {
    "collapsed": false
   },
   "outputs": [],
   "source": [
    "subj_l=[]\n",
    "for subjs in l:\n",
    "    if len(subjs)>0:\n",
    "        subj_l=subj_l+subjs.split('|')\n",
    "subj_l=[subj.strip() for subj in subj_l]"
   ]
  },
  {
   "cell_type": "code",
   "execution_count": 581,
   "metadata": {
    "collapsed": false
   },
   "outputs": [],
   "source": [
    "dic={\n",
    "    \"Agriculture\":\"Agricultural and Biological Sciences\",\n",
    "    \"Auxiliary sciences of history\":\"Arts and Humanities\",\n",
    "    \"Bibliography. Library science. Information resources\":\"Social Sciences\",\n",
    "    \"Education\":\"Social Sciences\",\n",
    "    \"Fine Arts\":\"Arts and Humanities\",\n",
    "    \"General Works\":\"Multidisciplinary\",\n",
    "    \"Geography. Anthropology. Recreation\":{\n",
    "        \"\":\"Social Sciences\",\n",
    "        \"Environmental sciences\":\"Environmental Science\",\n",
    "        },\n",
    "    \"History (General) and history of Europe\":\"Arts and Humanities\",\n",
    "    \"History America\":\"Arts and Humanities\",\n",
    "    \"Language and Literature\":\"Arts and Humanities\",\n",
    "    \"Law\":\"Social Sciences\",\n",
    "    \"Medicine\":{\n",
    "        \"\":\"Medicine\",\n",
    "        \"Dentistry\":\"Dentistry\",\n",
    "        \"Nursing\":\"Nursing\",\n",
    "        \"Therapeutics. Pharmacology\":\"Pharmacology, Toxicology and Pharmaceutics\",\n",
    "        \"Pediatrics\":[\"Nursing\",\"Medicine\"]\n",
    "        },\n",
    "    \"Music and books on Music\":\"Arts and Humanities\",\n",
    "    \"Naval Science\":\"Engineering\",\n",
    "    \"Philosophy. Psychology. Religion\":{\n",
    "        \"\":\"Arts and Humanities\",\n",
    "        \"Psychology\":\"Psychology\",\n",
    "        },\n",
    "    \"Political science\":\"Social Science\",\n",
    "    \"Science\":{\n",
    "        \"Astronomy\":\"Physics and Astronomy\",\n",
    "        \"Biology (General)\":{\n",
    "            \"\":\"Agricultural and Biological Sciences\",\n",
    "            \"Genetics\":\"Biochemistry, Genetics and Molecular Biology\",\n",
    "            \"Ecology\":[\"Agricultural and Biological Sciences\",\"Environmental Science\"],\n",
    "            \"Cytology\":\"Genetics and Molecular Biology\",\n",
    "            \"Evolution\":\"Agricultural and Biological Sciences\",\n",
    "            },\n",
    "        \"Botany\":\"Agricultural and Biological Sciences\",\n",
    "        \"Chemistry\":\"Chemistry\",\n",
    "        \"Geology\":\"Earth and Planetary Sciences\",\n",
    "        \"Human anatomy\":\"Medicine\",\n",
    "        \"Mathematics\":\"Mathematics\",\n",
    "        \"Microbiology\":\"Immunology and Microbiology\",\n",
    "        \"Natural history (General)\":\"Agricultural and Biological Sciences\",\n",
    "        \"Physics\":\"Physics and Astronomy\",\n",
    "        \"Physiology\":\"Medicine\",\n",
    "        \"Science (General)\":\"Multidisciplinary\",\n",
    "        \"Zoology\":\"Agricultural and Biological Sciences\",\n",
    "        },\n",
    "    \"Social Sciences\":{\n",
    "        \"\":\"Social Sciences\",\n",
    "        \"Commerce\":\"Business, Management and Accounting\",\n",
    "        \"Economic history and conditions\":\"Economics, Econometrics and Finance\",\n",
    "        \"Economics as a science\":\"Economics, Econometrics and Finance\",\n",
    "        \"Finance\":\"Economics, Econometrics and Finance\",\n",
    "        \"Statistics\":\"Decision Science\",\n",
    "        },\n",
    "    \"Technology\":{\n",
    "        \"\":\"Engineering\",\n",
    "        \"Chemical technology\":\"Chemical Engineering\",\n",
    "        \"Electrical engineering. Electronics. Nuclear engineering\":{\n",
    "            \"Electronics\":\"Computer Science\",\n",
    "            },\n",
    "        \"Engineering\":\"Engineering\",\n",
    "        \"Technology (General)\":{\n",
    "            \"Industrial engineering. Management engineering\":{\n",
    "                \"Information technology\":[\"Business, Management and Accounting\",\"Computer Science\"],\n",
    "                \"Management information systems\":[\"Business, Management and Accounting\",\"Decision Science\"],\n",
    "                }           \n",
    "            }\n",
    "        },\n",
    "    }"
   ]
  },
  {
   "cell_type": "code",
   "execution_count": 582,
   "metadata": {
    "collapsed": false
   },
   "outputs": [],
   "source": [
    "lc={}\n",
    "for l0 in dic.keys():\n",
    "    if isinstance(dic[l0],dict):\n",
    "        for l1 in dic[l0].keys():\n",
    "            if isinstance(dic[l0][l1],dict):\n",
    "                for l2 in dic[l0][l1].keys():\n",
    "                    if isinstance(dic[l0][l1][l2],dict):\n",
    "                        for l3 in dic[l0][l1][l2].keys():\n",
    "                            lc[l0+': '+l1+': '+l2+': '+l3]=dic[l0][l1][l2][l3]\n",
    "                    else: \n",
    "                        if l2=='':\n",
    "                            lc[l0+': '+l1]=dic[l0][l1][l2]\n",
    "                        else:\n",
    "                            lc[l0+': '+l1+': '+l2]=dic[l0][l1][l2]\n",
    "            else:\n",
    "                if l1=='':\n",
    "                    lc[l0]=dic[l0][l1]\n",
    "                else:\n",
    "                    lc[l0+': '+l1]=dic[l0][l1]\n",
    "\n",
    "    else:\n",
    "        lc[l0]=dic[l0]\n"
   ]
  },
  {
   "cell_type": "code",
   "execution_count": 583,
   "metadata": {
    "collapsed": false
   },
   "outputs": [
    {
     "data": {
      "text/plain": [
       "[('Social Sciences', 3242),\n",
       " ('Medicine', 2503),\n",
       " ('Arts and Humanities', 2146),\n",
       " ('Engineering', 1061),\n",
       " ('Agricultural and Biological Sciences', 1044),\n",
       " ('Business, Management and Accounting', 515),\n",
       " ('Mathematics', 405),\n",
       " ('Multidisciplinary', 367),\n",
       " ('Social Science', 265),\n",
       " ('Environmental Science', 227),\n",
       " ('Physics and Astronomy', 208),\n",
       " ('Psychology', 203),\n",
       " ('Chemistry', 189),\n",
       " ('Chemical Engineering', 175),\n",
       " ('Computer Science', 163),\n",
       " ('Nursing', 145),\n",
       " ('Science', 111),\n",
       " ('Earth and Planetary Sciences', 107),\n",
       " ('Economics, Econometrics and Finance', 105),\n",
       " ('Pharmacology, Toxicology and Pharmaceutics', 103),\n",
       " ('Dentistry', 90),\n",
       " ('Biochemistry, Genetics and Molecular Biology', 73),\n",
       " ('Immunology and Microbiology', 60),\n",
       " ('Decision Science', 33),\n",
       " ('Genetics and Molecular Biology', 31),\n",
       " ('Military Science', 17)]"
      ]
     },
     "execution_count": 583,
     "metadata": {},
     "output_type": "execute_result"
    }
   ],
   "source": [
    "subj_clean=[]\n",
    "for subj in subj_l:\n",
    "    in_dic=0\n",
    "    l=subj.split(':')\n",
    "    for i in range(len(l)):\n",
    "        key=':'.join(l[0:len(l)-i])\n",
    "        if key in lc.keys():\n",
    "            in_dic=1\n",
    "            if isinstance(lc[key],basestring):\n",
    "                subj_clean.append(lc[key])\n",
    "            else:\n",
    "                for s in lc[key]:\n",
    "                    subj_clean.append(s)\n",
    "            break\n",
    "    if in_dic==0:\n",
    "        subj_clean.append(subj)\n",
    "\n",
    "counter=collections.Counter(subj_clean)\n",
    "counter.most_common()"
   ]
  },
  {
   "cell_type": "code",
   "execution_count": 580,
   "metadata": {
    "collapsed": false
   },
   "outputs": [
    {
     "data": {
      "text/plain": [
       "27"
      ]
     },
     "execution_count": 580,
     "metadata": {},
     "output_type": "execute_result"
    }
   ],
   "source": [
    "len(counter)"
   ]
  },
  {
   "cell_type": "code",
   "execution_count": null,
   "metadata": {
    "collapsed": true
   },
   "outputs": [],
   "source": []
  }
 ],
 "metadata": {
  "anaconda-cloud": {},
  "kernelspec": {
   "display_name": "Python [Root]",
   "language": "python",
   "name": "Python [Root]"
  },
  "language_info": {
   "codemirror_mode": {
    "name": "ipython",
    "version": 2
   },
   "file_extension": ".py",
   "mimetype": "text/x-python",
   "name": "python",
   "nbconvert_exporter": "python",
   "pygments_lexer": "ipython2",
   "version": "2.7.12"
  }
 },
 "nbformat": 4,
 "nbformat_minor": 0
}
