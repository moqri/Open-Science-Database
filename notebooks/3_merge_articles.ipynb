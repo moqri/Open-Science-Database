{
 "cells": [
  {
   "cell_type": "code",
   "execution_count": 124,
   "metadata": {
    "collapsed": false
   },
   "outputs": [],
   "source": [
    "%matplotlib inline\n",
    "import os, io, json, urllib, numpy as np, codecs\n",
    "import glob, pandas as pd\n",
    "pd.options.display.max_rows = 999"
   ]
  },
  {
   "cell_type": "code",
   "execution_count": 125,
   "metadata": {
    "collapsed": true
   },
   "outputs": [],
   "source": [
    "this_month='1709'\n",
    "data_path='../data/'+this_month\n",
    "columns=8"
   ]
  },
  {
   "cell_type": "code",
   "execution_count": 126,
   "metadata": {
    "collapsed": false
   },
   "outputs": [],
   "source": [
    "y17 = glob.glob(data_path+'/2017/*.txt')\n",
    "y16 = glob.glob(data_path+'/2016/*.txt')\n",
    "y15 = glob.glob(data_path+'/2015/*.txt')\n",
    "y14 = glob.glob(data_path+'/2014/*.txt')\n",
    "y14_17=y14+y15+y16+y17\n",
    "with open(data_path+'/merged.txt', \"wb\") as outfile:\n",
    "    for f in y14_17:\n",
    "        with open(f, \"rb\") as infile:\n",
    "            lines=infile.read().split('\\n')\n",
    "            for line in lines:\n",
    "                if len(line.split('\\t'))==columns:\n",
    "                    outfile.write(line+'\\n')"
   ]
  },
  {
   "cell_type": "code",
   "execution_count": 127,
   "metadata": {
    "collapsed": false
   },
   "outputs": [
    {
     "data": {
      "text/plain": [
       "(10867268, 8)"
      ]
     },
     "execution_count": 127,
     "metadata": {},
     "output_type": "execute_result"
    }
   ],
   "source": [
    "df=pd.read_table(data_path+'/merged.txt',header=None)\n",
    "df.columns=['doi','year','citation','issnp','issne','journal','publisher','lic']\n",
    "df.shape"
   ]
  },
  {
   "cell_type": "code",
   "execution_count": 128,
   "metadata": {
    "collapsed": false
   },
   "outputs": [
    {
     "data": {
      "text/plain": [
       "(10867268, 8)"
      ]
     },
     "execution_count": 128,
     "metadata": {},
     "output_type": "execute_result"
    }
   ],
   "source": [
    "df=df[(~df.issnp.isnull()) | (~df.issne.isnull())]\n",
    "df.shape"
   ]
  },
  {
   "cell_type": "code",
   "execution_count": 129,
   "metadata": {
    "collapsed": true
   },
   "outputs": [],
   "source": [
    "df['count']=1\n",
    "df['cited']=df['citation'].apply(lambda x: 1 if x>0 else 0)\n",
    "df['un-cited']=df['citation'].apply(lambda x: 0 if x>0 else 1)"
   ]
  },
  {
   "cell_type": "code",
   "execution_count": 130,
   "metadata": {
    "collapsed": false
   },
   "outputs": [],
   "source": [
    "df['yy']=df.year.str[1:5]\n",
    "df['mm']=df.year.apply(lambda x: int(x.replace(']','').split(', ')[1]) if len(x.split(', '))>1 else 0)"
   ]
  },
  {
   "cell_type": "code",
   "execution_count": 131,
   "metadata": {
    "collapsed": true
   },
   "outputs": [],
   "source": [
    "df['year']=df['yy'].astype(int)"
   ]
  },
  {
   "cell_type": "code",
   "execution_count": 132,
   "metadata": {
    "collapsed": false
   },
   "outputs": [],
   "source": [
    "df=df.fillna('_')\n",
    "df['issn']=df.issnp+','+df.issne\n",
    "df['issn']=df.issn.str.replace(',_','')\n",
    "df['issn']=df.issn.str.replace('_,','')\n",
    "df['issn']=df.issn.apply(lambda x:x[0:9] if x[10:19]==x[0:9] else x)"
   ]
  },
  {
   "cell_type": "code",
   "execution_count": 133,
   "metadata": {
    "collapsed": true
   },
   "outputs": [],
   "source": [
    "s=df.issn.str.split(',',expand=True).stack()\n",
    "i = s.index.get_level_values(0)\n",
    "df2 = df.loc[i].copy()\n",
    "df2[\"@id\"] = s.values"
   ]
  },
  {
   "cell_type": "code",
   "execution_count": 134,
   "metadata": {
    "collapsed": true
   },
   "outputs": [],
   "source": [
    "all_issns=set(df.issn.values)"
   ]
  },
  {
   "cell_type": "code",
   "execution_count": 135,
   "metadata": {
    "collapsed": false
   },
   "outputs": [],
   "source": [
    "issn_count=df2[['@id','count']].groupby('@id').count().reset_index()"
   ]
  },
  {
   "cell_type": "code",
   "execution_count": 136,
   "metadata": {
    "collapsed": false
   },
   "outputs": [],
   "source": [
    "issn_count_dic={}\n",
    "for index,row in issn_count.iterrows():\n",
    "    issn_count_dic[row['@id']]=row['count']"
   ]
  },
  {
   "cell_type": "code",
   "execution_count": 137,
   "metadata": {
    "collapsed": false
   },
   "outputs": [],
   "source": [
    "issn_pairs_list=[]\n",
    "main_issns={}\n",
    "for issn in all_issns:\n",
    "    if len(issn)>9:\n",
    "        issn0=issn[:9]; \n",
    "        issn1=issn[10:]; \n",
    "        if issn1 not in issn_count_dic:\n",
    "            main_issn=issn0\n",
    "        if issn0 not in issn_count_dic:\n",
    "            main_issn=issn1\n",
    "        if issn0 in issn_count_dic and issn1 in issn_count_dic:\n",
    "            dif=issn_count_dic[issn1]-issn_count_dic[issn0]\n",
    "            if dif> 0: \n",
    "                main_issn=issn1\n",
    "            else:\n",
    "                main_issn=issn0\n",
    "    else:\n",
    "        main_issn=issn\n",
    "    if main_issn in main_issns:\n",
    "        if main_issns[main_issn]!=issn:\n",
    "            main_issns[main_issn]+=';'+issn\n",
    "    else:\n",
    "        main_issns[main_issn]=issn"
   ]
  },
  {
   "cell_type": "code",
   "execution_count": 138,
   "metadata": {
    "collapsed": false,
    "scrolled": true
   },
   "outputs": [
    {
     "data": {
      "text/plain": [
       "42339"
      ]
     },
     "execution_count": 138,
     "metadata": {},
     "output_type": "execute_result"
    }
   ],
   "source": [
    "pd.DataFrame(main_issns.keys()).to_csv('../store/main_issns.csv',header=False,index=False)\n",
    "len(main_issns)"
   ]
  },
  {
   "cell_type": "code",
   "execution_count": 139,
   "metadata": {
    "collapsed": false
   },
   "outputs": [],
   "source": [
    "issn_to_main={}\n",
    "for main_issn in main_issns.keys():\n",
    "    for issn in main_issns[main_issn].split(';'):\n",
    "        issn_to_main[issn]=main_issn"
   ]
  },
  {
   "cell_type": "code",
   "execution_count": 140,
   "metadata": {
    "collapsed": false
   },
   "outputs": [
    {
     "data": {
      "text/plain": [
       "45110"
      ]
     },
     "execution_count": 140,
     "metadata": {},
     "output_type": "execute_result"
    }
   ],
   "source": [
    "len(issn_to_main)"
   ]
  },
  {
   "cell_type": "code",
   "execution_count": 141,
   "metadata": {
    "collapsed": false
   },
   "outputs": [],
   "source": [
    "df['main_issn']=df.issn.apply(lambda x:issn_to_main[x])"
   ]
  },
  {
   "cell_type": "code",
   "execution_count": 142,
   "metadata": {
    "collapsed": true
   },
   "outputs": [],
   "source": [
    "df.to_csv(data_path+'/cleaned.csv',index=False)"
   ]
  },
  {
   "cell_type": "code",
   "execution_count": null,
   "metadata": {
    "collapsed": true
   },
   "outputs": [],
   "source": []
  }
 ],
 "metadata": {
  "anaconda-cloud": {},
  "kernelspec": {
   "display_name": "Python [Root]",
   "language": "python",
   "name": "Python [Root]"
  },
  "language_info": {
   "codemirror_mode": {
    "name": "ipython",
    "version": 2
   },
   "file_extension": ".py",
   "mimetype": "text/x-python",
   "name": "python",
   "nbconvert_exporter": "python",
   "pygments_lexer": "ipython2",
   "version": "2.7.12"
  }
 },
 "nbformat": 4,
 "nbformat_minor": 0
}
