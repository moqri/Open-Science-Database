{
 "cells": [
  {
   "cell_type": "code",
   "execution_count": 10,
   "metadata": {
    "collapsed": true
   },
   "outputs": [],
   "source": [
    "%matplotlib inline\n",
    "import os, io, json, urllib, numpy as np, codecs\n",
    "import glob, pandas as pd\n",
    "pd.options.display.max_rows = 999"
   ]
  },
  {
   "cell_type": "code",
   "execution_count": 11,
   "metadata": {
    "collapsed": true
   },
   "outputs": [],
   "source": [
    "this_month='1709'\n",
    "data_path='../data/'+this_month"
   ]
  },
  {
   "cell_type": "code",
   "execution_count": 12,
   "metadata": {
    "collapsed": false
   },
   "outputs": [
    {
     "data": {
      "text/plain": [
       "(8939289, 15)"
      ]
     },
     "execution_count": 12,
     "metadata": {},
     "output_type": "execute_result"
    }
   ],
   "source": [
    "df=pd.read_csv(data_path+'/cleaned.csv')\n",
    "df.shape"
   ]
  },
  {
   "cell_type": "code",
   "execution_count": 14,
   "metadata": {
    "collapsed": false
   },
   "outputs": [
    {
     "data": {
      "text/plain": [
       "(6890270, 15)"
      ]
     },
     "execution_count": 14,
     "metadata": {},
     "output_type": "execute_result"
    }
   ],
   "source": [
    "df=df[~((df.year==2014) & (df.mm<9))]\n",
    "df.shape"
   ]
  },
  {
   "cell_type": "code",
   "execution_count": 15,
   "metadata": {
    "collapsed": false
   },
   "outputs": [
    {
     "data": {
      "text/plain": [
       "(6890270, 15)"
      ]
     },
     "execution_count": 15,
     "metadata": {},
     "output_type": "execute_result"
    }
   ],
   "source": [
    "df=df[(df['year']<=2017) & (df['year']>=2014)]\n",
    "df.shape"
   ]
  },
  {
   "cell_type": "code",
   "execution_count": 20,
   "metadata": {
    "collapsed": false
   },
   "outputs": [],
   "source": [
    "unique_subjects=pd.read_csv('../store/unique_subjects.csv',header=None)\n",
    "unique_subjects=unique_subjects[0].values"
   ]
  },
  {
   "cell_type": "code",
   "execution_count": 21,
   "metadata": {
    "collapsed": false
   },
   "outputs": [],
   "source": [
    "with open('../store/issn_subject.json') as data_file:    \n",
    "    issn_subject = json.load(data_file)"
   ]
  },
  {
   "cell_type": "code",
   "execution_count": 22,
   "metadata": {
    "collapsed": true
   },
   "outputs": [],
   "source": [
    "df2=df[['doi','main_issn','citation']]"
   ]
  },
  {
   "cell_type": "code",
   "execution_count": 50,
   "metadata": {
    "collapsed": false
   },
   "outputs": [],
   "source": [
    "join_subjects=df2['main_issn'].apply(lambda x: ';'.join(issn_subject[x]) if x in issn_subject else '')"
   ]
  },
  {
   "cell_type": "code",
   "execution_count": 51,
   "metadata": {
    "collapsed": false
   },
   "outputs": [],
   "source": [
    "df2.loc[:,'subjects']=join_subjects"
   ]
  },
  {
   "cell_type": "code",
   "execution_count": 52,
   "metadata": {
    "collapsed": false
   },
   "outputs": [
    {
     "data": {
      "text/plain": [
       "(6890270L,)"
      ]
     },
     "execution_count": 52,
     "metadata": {},
     "output_type": "execute_result"
    }
   ],
   "source": [
    "df2['main_issn'].apply(lambda x: ';'.join(issn_subject[x]) if x in issn_subject else '').shape"
   ]
  },
  {
   "cell_type": "code",
   "execution_count": 53,
   "metadata": {
    "collapsed": false
   },
   "outputs": [],
   "source": [
    "unique_subjects=[]\n",
    "all_subjects=df2['subjects'].values\n",
    "for journal_subjects in all_subjects:\n",
    "    subjects=journal_subjects.split(';')\n",
    "    for subject in subjects:\n",
    "        if subject not in unique_subjects: unique_subjects.append(subject)"
   ]
  },
  {
   "cell_type": "code",
   "execution_count": 54,
   "metadata": {
    "collapsed": false
   },
   "outputs": [
    {
     "data": {
      "text/plain": [
       "327"
      ]
     },
     "execution_count": 54,
     "metadata": {},
     "output_type": "execute_result"
    }
   ],
   "source": [
    "len(unique_subjects)"
   ]
  },
  {
   "cell_type": "code",
   "execution_count": 55,
   "metadata": {
    "collapsed": true
   },
   "outputs": [],
   "source": [
    "this_month='1708'"
   ]
  },
  {
   "cell_type": "code",
   "execution_count": 65,
   "metadata": {
    "collapsed": false,
    "scrolled": true
   },
   "outputs": [
    {
     "name": "stdout",
     "output_type": "stream",
     "text": [
      "0"
     ]
    },
    {
     "ename": "KeyboardInterrupt",
     "evalue": "",
     "output_type": "error",
     "traceback": [
      "\u001b[1;31m\u001b[0m",
      "\u001b[1;31mKeyboardInterrupt\u001b[0mTraceback (most recent call last)",
      "\u001b[1;32m<ipython-input-65-4967962e8e1f>\u001b[0m in \u001b[0;36m<module>\u001b[1;34m()\u001b[0m\n\u001b[0;32m      5\u001b[0m         \u001b[0mdf_subject\u001b[0m\u001b[1;33m=\u001b[0m\u001b[0mdf2\u001b[0m\u001b[1;33m.\u001b[0m\u001b[0msort_values\u001b[0m\u001b[1;33m(\u001b[0m\u001b[1;34m'citation'\u001b[0m\u001b[1;33m,\u001b[0m \u001b[0mascending\u001b[0m\u001b[1;33m=\u001b[0m \u001b[0mFalse\u001b[0m\u001b[1;33m)\u001b[0m\u001b[1;33m[\u001b[0m\u001b[1;33m:\u001b[0m\u001b[1;36m20\u001b[0m\u001b[1;33m]\u001b[0m\u001b[1;33m\u001b[0m\u001b[0m\n\u001b[0;32m      6\u001b[0m     \u001b[1;32melse\u001b[0m\u001b[1;33m:\u001b[0m\u001b[1;33m\u001b[0m\u001b[0m\n\u001b[1;32m----> 7\u001b[1;33m         \u001b[0mdf_subject\u001b[0m\u001b[1;33m=\u001b[0m\u001b[0mdf2\u001b[0m\u001b[1;33m[\u001b[0m\u001b[0mdf2\u001b[0m\u001b[1;33m.\u001b[0m\u001b[0msubjects\u001b[0m\u001b[1;33m.\u001b[0m\u001b[0mapply\u001b[0m\u001b[1;33m(\u001b[0m\u001b[1;32mlambda\u001b[0m \u001b[0mx\u001b[0m\u001b[1;33m:\u001b[0m \u001b[0msubject\u001b[0m \u001b[1;32min\u001b[0m \u001b[0mx\u001b[0m\u001b[1;33m.\u001b[0m\u001b[0msplit\u001b[0m\u001b[1;33m(\u001b[0m\u001b[1;34m';'\u001b[0m\u001b[1;33m)\u001b[0m\u001b[1;33m)\u001b[0m\u001b[1;33m]\u001b[0m\u001b[1;33m.\u001b[0m\u001b[0msort_values\u001b[0m\u001b[1;33m(\u001b[0m\u001b[1;34m'citation'\u001b[0m\u001b[1;33m,\u001b[0m \u001b[0mascending\u001b[0m\u001b[1;33m=\u001b[0m \u001b[0mFalse\u001b[0m\u001b[1;33m)\u001b[0m\u001b[1;33m[\u001b[0m\u001b[1;33m:\u001b[0m\u001b[1;36m20\u001b[0m\u001b[1;33m]\u001b[0m\u001b[1;33m\u001b[0m\u001b[0m\n\u001b[0m\u001b[0;32m      8\u001b[0m     \u001b[0mtop_dois\u001b[0m\u001b[1;33m=\u001b[0m\u001b[0mdf_subject\u001b[0m\u001b[1;33m[\u001b[0m\u001b[1;33m[\u001b[0m\u001b[1;34m'doi'\u001b[0m\u001b[1;33m,\u001b[0m\u001b[1;34m'main_issn'\u001b[0m\u001b[1;33m,\u001b[0m\u001b[1;34m'citation'\u001b[0m\u001b[1;33m]\u001b[0m\u001b[1;33m]\u001b[0m\u001b[1;33m.\u001b[0m\u001b[0mto_dict\u001b[0m\u001b[1;33m(\u001b[0m\u001b[1;34m'list'\u001b[0m\u001b[1;33m)\u001b[0m\u001b[1;33m\u001b[0m\u001b[0m\n\u001b[0;32m      9\u001b[0m     \u001b[0mzips\u001b[0m\u001b[1;33m=\u001b[0m\u001b[0mzip\u001b[0m\u001b[1;33m(\u001b[0m\u001b[0mtop_dois\u001b[0m\u001b[1;33m[\u001b[0m\u001b[1;34m'doi'\u001b[0m\u001b[1;33m]\u001b[0m\u001b[1;33m,\u001b[0m\u001b[0mtop_dois\u001b[0m\u001b[1;33m[\u001b[0m\u001b[1;34m'main_issn'\u001b[0m\u001b[1;33m]\u001b[0m\u001b[1;33m,\u001b[0m\u001b[0mtop_dois\u001b[0m\u001b[1;33m[\u001b[0m\u001b[1;34m'citation'\u001b[0m\u001b[1;33m]\u001b[0m\u001b[1;33m)\u001b[0m\u001b[1;33m\u001b[0m\u001b[0m\n",
      "\u001b[1;32mC:\\Users\\moqri\\AppData\\Local\\Continuum\\Anaconda2\\lib\\site-packages\\pandas\\core\\series.pyc\u001b[0m in \u001b[0;36mapply\u001b[1;34m(self, func, convert_dtype, args, **kwds)\u001b[0m\n\u001b[0;32m   2218\u001b[0m         \u001b[1;32melse\u001b[0m\u001b[1;33m:\u001b[0m\u001b[1;33m\u001b[0m\u001b[0m\n\u001b[0;32m   2219\u001b[0m             \u001b[0mvalues\u001b[0m \u001b[1;33m=\u001b[0m \u001b[0mself\u001b[0m\u001b[1;33m.\u001b[0m\u001b[0masobject\u001b[0m\u001b[1;33m\u001b[0m\u001b[0m\n\u001b[1;32m-> 2220\u001b[1;33m             \u001b[0mmapped\u001b[0m \u001b[1;33m=\u001b[0m \u001b[0mlib\u001b[0m\u001b[1;33m.\u001b[0m\u001b[0mmap_infer\u001b[0m\u001b[1;33m(\u001b[0m\u001b[0mvalues\u001b[0m\u001b[1;33m,\u001b[0m \u001b[0mf\u001b[0m\u001b[1;33m,\u001b[0m \u001b[0mconvert\u001b[0m\u001b[1;33m=\u001b[0m\u001b[0mconvert_dtype\u001b[0m\u001b[1;33m)\u001b[0m\u001b[1;33m\u001b[0m\u001b[0m\n\u001b[0m\u001b[0;32m   2221\u001b[0m \u001b[1;33m\u001b[0m\u001b[0m\n\u001b[0;32m   2222\u001b[0m         \u001b[1;32mif\u001b[0m \u001b[0mlen\u001b[0m\u001b[1;33m(\u001b[0m\u001b[0mmapped\u001b[0m\u001b[1;33m)\u001b[0m \u001b[1;32mand\u001b[0m \u001b[0misinstance\u001b[0m\u001b[1;33m(\u001b[0m\u001b[0mmapped\u001b[0m\u001b[1;33m[\u001b[0m\u001b[1;36m0\u001b[0m\u001b[1;33m]\u001b[0m\u001b[1;33m,\u001b[0m \u001b[0mSeries\u001b[0m\u001b[1;33m)\u001b[0m\u001b[1;33m:\u001b[0m\u001b[1;33m\u001b[0m\u001b[0m\n",
      "\u001b[1;32mpandas\\src\\inference.pyx\u001b[0m in \u001b[0;36mpandas.lib.map_infer (pandas\\lib.c:62658)\u001b[1;34m()\u001b[0m\n",
      "\u001b[1;32m<ipython-input-65-4967962e8e1f>\u001b[0m in \u001b[0;36m<lambda>\u001b[1;34m(x)\u001b[0m\n\u001b[0;32m      5\u001b[0m         \u001b[0mdf_subject\u001b[0m\u001b[1;33m=\u001b[0m\u001b[0mdf2\u001b[0m\u001b[1;33m.\u001b[0m\u001b[0msort_values\u001b[0m\u001b[1;33m(\u001b[0m\u001b[1;34m'citation'\u001b[0m\u001b[1;33m,\u001b[0m \u001b[0mascending\u001b[0m\u001b[1;33m=\u001b[0m \u001b[0mFalse\u001b[0m\u001b[1;33m)\u001b[0m\u001b[1;33m[\u001b[0m\u001b[1;33m:\u001b[0m\u001b[1;36m20\u001b[0m\u001b[1;33m]\u001b[0m\u001b[1;33m\u001b[0m\u001b[0m\n\u001b[0;32m      6\u001b[0m     \u001b[1;32melse\u001b[0m\u001b[1;33m:\u001b[0m\u001b[1;33m\u001b[0m\u001b[0m\n\u001b[1;32m----> 7\u001b[1;33m         \u001b[0mdf_subject\u001b[0m\u001b[1;33m=\u001b[0m\u001b[0mdf2\u001b[0m\u001b[1;33m[\u001b[0m\u001b[0mdf2\u001b[0m\u001b[1;33m.\u001b[0m\u001b[0msubjects\u001b[0m\u001b[1;33m.\u001b[0m\u001b[0mapply\u001b[0m\u001b[1;33m(\u001b[0m\u001b[1;32mlambda\u001b[0m \u001b[0mx\u001b[0m\u001b[1;33m:\u001b[0m \u001b[0msubject\u001b[0m \u001b[1;32min\u001b[0m \u001b[0mx\u001b[0m\u001b[1;33m.\u001b[0m\u001b[0msplit\u001b[0m\u001b[1;33m(\u001b[0m\u001b[1;34m';'\u001b[0m\u001b[1;33m)\u001b[0m\u001b[1;33m)\u001b[0m\u001b[1;33m]\u001b[0m\u001b[1;33m.\u001b[0m\u001b[0msort_values\u001b[0m\u001b[1;33m(\u001b[0m\u001b[1;34m'citation'\u001b[0m\u001b[1;33m,\u001b[0m \u001b[0mascending\u001b[0m\u001b[1;33m=\u001b[0m \u001b[0mFalse\u001b[0m\u001b[1;33m)\u001b[0m\u001b[1;33m[\u001b[0m\u001b[1;33m:\u001b[0m\u001b[1;36m20\u001b[0m\u001b[1;33m]\u001b[0m\u001b[1;33m\u001b[0m\u001b[0m\n\u001b[0m\u001b[0;32m      8\u001b[0m     \u001b[0mtop_dois\u001b[0m\u001b[1;33m=\u001b[0m\u001b[0mdf_subject\u001b[0m\u001b[1;33m[\u001b[0m\u001b[1;33m[\u001b[0m\u001b[1;34m'doi'\u001b[0m\u001b[1;33m,\u001b[0m\u001b[1;34m'main_issn'\u001b[0m\u001b[1;33m,\u001b[0m\u001b[1;34m'citation'\u001b[0m\u001b[1;33m]\u001b[0m\u001b[1;33m]\u001b[0m\u001b[1;33m.\u001b[0m\u001b[0mto_dict\u001b[0m\u001b[1;33m(\u001b[0m\u001b[1;34m'list'\u001b[0m\u001b[1;33m)\u001b[0m\u001b[1;33m\u001b[0m\u001b[0m\n\u001b[0;32m      9\u001b[0m     \u001b[0mzips\u001b[0m\u001b[1;33m=\u001b[0m\u001b[0mzip\u001b[0m\u001b[1;33m(\u001b[0m\u001b[0mtop_dois\u001b[0m\u001b[1;33m[\u001b[0m\u001b[1;34m'doi'\u001b[0m\u001b[1;33m]\u001b[0m\u001b[1;33m,\u001b[0m\u001b[0mtop_dois\u001b[0m\u001b[1;33m[\u001b[0m\u001b[1;34m'main_issn'\u001b[0m\u001b[1;33m]\u001b[0m\u001b[1;33m,\u001b[0m\u001b[0mtop_dois\u001b[0m\u001b[1;33m[\u001b[0m\u001b[1;34m'citation'\u001b[0m\u001b[1;33m]\u001b[0m\u001b[1;33m)\u001b[0m\u001b[1;33m\u001b[0m\u001b[0m\n",
      "\u001b[1;31mKeyboardInterrupt\u001b[0m: "
     ]
    }
   ],
   "source": [
    "top_articles=[]\n",
    "counter=0\n",
    "for subject in unique_subjects:\n",
    "    if subject=='':\n",
    "        df_subject=df2.sort_values('citation', ascending= False)[:20]\n",
    "    else:\n",
    "        df_subject=df2[df2.subjects.apply(lambda x: subject in x.split(';'))].sort_values('citation', ascending= False)[:20]\n",
    "    top_dois=df_subject[['doi','main_issn','citation']].to_dict('list')\n",
    "    zips=zip(top_dois['doi'],top_dois['main_issn'],top_dois['citation'])\n",
    "    items=[];\n",
    "    for doi,issn,citation in zips:\n",
    "        item={}; item_cleaned={}\n",
    "        url='http://api.crossref.org/works/'+doi\n",
    "        response = urllib.urlopen(url).read()    \n",
    "        json_result=json.loads(response)\n",
    "        item = json_result['message']\n",
    "        year_print=[9999,99,99];year_online=[9999,99,99];\n",
    "        if 'title' in item:\n",
    "            title=item['title'][0]\n",
    "        if 'published-print' in item:\n",
    "            year_print=item['published-print']['date-parts'][0]                \n",
    "        if 'published-online' in item:\n",
    "            year_online=item['published-online']['date-parts'][0]\n",
    "        year=min(year_print,year_online)\n",
    "        if 'DOI' in item: doi=item['DOI']\n",
    "        if 'container-title' in item: journal=','.join(item['container-title'])\n",
    "        if 'publisher' in item: pub=item['publisher']; pub=''if pub==None else pub\n",
    "        if 'references-count' in item: ref=str(item['references-count'])\n",
    "        authors=[]\n",
    "        if 'author' in item: \n",
    "            for author in item['author']:\n",
    "                if 'given' in author:\n",
    "                    author_name=author['given']\n",
    "                if 'family' in author:\n",
    "                    author_name+=' '+author['family']\n",
    "                authors.append(author_name)\n",
    "        if len(authors)>5: authors=authors[:5]\n",
    "        if len(year)>1 :\n",
    "            month=str(year[1]) \n",
    "        else: month=''\n",
    "        item_cleaned={'@id':doi,\n",
    "                      'e:title':title,\n",
    "                      'e:year':str(year[0])+'-'+month,\n",
    "                      'e:cite':np.asscalar(citation),\n",
    "                      'e:issn':issn, \n",
    "                      'e:journal':journal,\n",
    "                      'e:pub':pub,\n",
    "                      'e:authors':authors,\n",
    "                      'e:subject':subject,\n",
    "                      'e:month':this_month} \n",
    "        if item_cleaned not in top_articles:\n",
    "            top_articles.append(item_cleaned)\n",
    "    print counter,\n",
    "    counter+=1            "
   ]
  },
  {
   "cell_type": "code",
   "execution_count": 66,
   "metadata": {
    "collapsed": false
   },
   "outputs": [
    {
     "data": {
      "text/plain": [
       "[{'@id': u'10.1016/s0140-6736(14)61682-2',\n",
       "  'e:authors': [],\n",
       "  'e:cite': 1414L,\n",
       "  'e:issn': '0140-6736',\n",
       "  'e:journal': u'The Lancet',\n",
       "  'e:month': '1708',\n",
       "  'e:pub': u'Elsevier BV',\n",
       "  'e:subject': u'General Medicine',\n",
       "  'e:title': u'Global, regional, and national age\\u2013sex specific all-cause and cause-specific mortality for 240 causes of death, 1990\\u20132013: a systematic analysis for the Global Burden of Disease Study 2013',\n",
       "  'e:year': '2015-1'},\n",
       " {'@id': u'10.1056/nejmoa1504030',\n",
       "  'e:authors': [u'James Larkin',\n",
       "   u'Vanna Chiarion-Sileni',\n",
       "   u'Rene Gonzalez',\n",
       "   u'Jean Jacques Grob',\n",
       "   u'C. Lance Cowey'],\n",
       "  'e:cite': 1215L,\n",
       "  'e:issn': '0028-4793',\n",
       "  'e:journal': u'New England Journal of Medicine',\n",
       "  'e:month': '1708',\n",
       "  'e:pub': u'New England Journal of Medicine (NEJM/MMS)',\n",
       "  'e:subject': u'General Medicine',\n",
       "  'e:title': u'Combined Nivolumab and Ipilimumab or Monotherapy in Untreated Melanoma',\n",
       "  'e:year': '2015-7'},\n",
       " {'@id': u'10.1056/nejmoa1504627',\n",
       "  'e:authors': [u'Julie Brahmer',\n",
       "   u'Karen L. Reckamp',\n",
       "   u'Paul Baas',\n",
       "   u'Lucio Crin\\xf2',\n",
       "   u'Wilfried E.E. Eberhardt'],\n",
       "  'e:cite': 1176L,\n",
       "  'e:issn': '0028-4793',\n",
       "  'e:journal': u'New England Journal of Medicine',\n",
       "  'e:month': '1708',\n",
       "  'e:pub': u'New England Journal of Medicine (NEJM/MMS)',\n",
       "  'e:subject': u'General Medicine',\n",
       "  'e:title': u'Nivolumab versus Docetaxel in Advanced Squamous-Cell Non\\u2013Small-Cell Lung Cancer',\n",
       "  'e:year': '2015-7'},\n",
       " {'@id': u'10.1056/nejmoa1411587',\n",
       "  'e:authors': [u'Olvert A. Berkhemer',\n",
       "   u'Puck S.S. Fransen',\n",
       "   u'Debbie Beumer',\n",
       "   u'Lucie A. van den Berg',\n",
       "   u'Hester F. Lingsma'],\n",
       "  'e:cite': 1152L,\n",
       "  'e:issn': '0028-4793',\n",
       "  'e:journal': u'New England Journal of Medicine',\n",
       "  'e:month': '1708',\n",
       "  'e:pub': u'New England Journal of Medicine (NEJM/MMS)',\n",
       "  'e:subject': u'General Medicine',\n",
       "  'e:title': u'A Randomized Trial of Intraarterial Treatment for Acute Ischemic Stroke',\n",
       "  'e:year': '2015-1'},\n",
       " {'@id': u'10.1056/nejmoa1412082',\n",
       "  'e:authors': [u'Caroline Robert',\n",
       "   u'Georgina V. Long',\n",
       "   u'Benjamin Brady',\n",
       "   u'Caroline Dutriaux',\n",
       "   u'Michele Maio'],\n",
       "  'e:cite': 1091L,\n",
       "  'e:issn': '0028-4793',\n",
       "  'e:journal': u'New England Journal of Medicine',\n",
       "  'e:month': '1708',\n",
       "  'e:pub': u'New England Journal of Medicine (NEJM/MMS)',\n",
       "  'e:subject': u'General Medicine',\n",
       "  'e:title': u'Nivolumab in Previously Untreated Melanoma without BRAF Mutation',\n",
       "  'e:year': '2015-1'},\n",
       " {'@id': u'10.1056/nejmoa1504720',\n",
       "  'e:authors': [u'Bernard Zinman',\n",
       "   u'Christoph Wanner',\n",
       "   u'John M. Lachin',\n",
       "   u'David Fitchett',\n",
       "   u'Erich Bluhmki'],\n",
       "  'e:cite': 1066L,\n",
       "  'e:issn': '0028-4793',\n",
       "  'e:journal': u'New England Journal of Medicine',\n",
       "  'e:month': '1708',\n",
       "  'e:pub': u'New England Journal of Medicine (NEJM/MMS)',\n",
       "  'e:subject': u'General Medicine',\n",
       "  'e:title': u'Empagliflozin, Cardiovascular Outcomes, and Mortality in Type 2 Diabetes',\n",
       "  'e:year': '2015-11'},\n",
       " {'@id': u'10.1056/nejmoa1414905',\n",
       "  'e:authors': [u'Mayank Goyal',\n",
       "   u'Andrew M. Demchuk',\n",
       "   u'Bijoy K. Menon',\n",
       "   u'Muneer Eesa',\n",
       "   u'Jeremy L. Rempel'],\n",
       "  'e:cite': 1018L,\n",
       "  'e:issn': '0028-4793',\n",
       "  'e:journal': u'New England Journal of Medicine',\n",
       "  'e:month': '1708',\n",
       "  'e:pub': u'New England Journal of Medicine (NEJM/MMS)',\n",
       "  'e:subject': u'General Medicine',\n",
       "  'e:title': u'Randomized Assessment of Rapid Endovascular Treatment of Ischemic Stroke',\n",
       "  'e:year': '2015-3'},\n",
       " {'@id': u'10.1056/nejmp1500523',\n",
       "  'e:authors': [u'Francis S. Collins', u'Harold Varmus'],\n",
       "  'e:cite': 1012L,\n",
       "  'e:issn': '0028-4793',\n",
       "  'e:journal': u'New England Journal of Medicine',\n",
       "  'e:month': '1708',\n",
       "  'e:pub': u'New England Journal of Medicine (NEJM/MMS)',\n",
       "  'e:subject': u'General Medicine',\n",
       "  'e:title': u'A New Initiative on Precision Medicine',\n",
       "  'e:year': '2015-2'},\n",
       " {'@id': u'10.1016/s0140-6736(15)60692-4',\n",
       "  'e:authors': [u'Theo Vos',\n",
       "   u'Ryan M Barber',\n",
       "   u'Brad Bell',\n",
       "   u'Amelia Bertozzi-Villa',\n",
       "   u'Stan Biryukov'],\n",
       "  'e:cite': 1005L,\n",
       "  'e:issn': '0140-6736',\n",
       "  'e:journal': u'The Lancet',\n",
       "  'e:month': '1708',\n",
       "  'e:pub': u'Elsevier BV',\n",
       "  'e:subject': u'General Medicine',\n",
       "  'e:title': u'Global, regional, and national incidence, prevalence, and years lived with disability for 301 acute and chronic diseases and injuries in 188 countries, 1990\\u20132013: a systematic analysis for the Global Burden of Disease Study 2013',\n",
       "  'e:year': '2015-8'},\n",
       " {'@id': u'10.1056/nejmoa1500596',\n",
       "  'e:authors': [u'Dung T. Le',\n",
       "   u'Jennifer N. Uram',\n",
       "   u'Hao Wang',\n",
       "   u'Bjarne R. Bartlett',\n",
       "   u'Holly Kemberling'],\n",
       "  'e:cite': 1001L,\n",
       "  'e:issn': '0028-4793',\n",
       "  'e:journal': u'New England Journal of Medicine',\n",
       "  'e:month': '1708',\n",
       "  'e:pub': u'New England Journal of Medicine (NEJM/MMS)',\n",
       "  'e:subject': u'General Medicine',\n",
       "  'e:title': u'PD-1 Blockade in Tumors with Mismatch-Repair Deficiency',\n",
       "  'e:year': '2015-6'},\n",
       " {'@id': u'10.1056/nejmoa1507643',\n",
       "  'e:authors': [u'Hossein Borghaei',\n",
       "   u'Luis Paz-Ares',\n",
       "   u'Leora Horn',\n",
       "   u'David R. Spigel',\n",
       "   u'Martin Steins'],\n",
       "  'e:cite': 999L,\n",
       "  'e:issn': '0028-4793',\n",
       "  'e:journal': u'New England Journal of Medicine',\n",
       "  'e:month': '1708',\n",
       "  'e:pub': u'New England Journal of Medicine (NEJM/MMS)',\n",
       "  'e:subject': u'General Medicine',\n",
       "  'e:title': u'Nivolumab versus Docetaxel in Advanced Nonsquamous Non\\u2013Small-Cell Lung Cancer',\n",
       "  'e:year': '2015-10'},\n",
       " {'@id': u'10.1056/nejmoa1503093',\n",
       "  'e:authors': [u'Caroline Robert',\n",
       "   u'Jacob Schachter',\n",
       "   u'Georgina V. Long',\n",
       "   u'Ana Arance',\n",
       "   u'Jean Jacques Grob'],\n",
       "  'e:cite': 999L,\n",
       "  'e:issn': '0028-4793',\n",
       "  'e:journal': u'New England Journal of Medicine',\n",
       "  'e:month': '1708',\n",
       "  'e:pub': u'New England Journal of Medicine (NEJM/MMS)',\n",
       "  'e:subject': u'General Medicine',\n",
       "  'e:title': u'Pembrolizumab versus Ipilimumab in Advanced Melanoma',\n",
       "  'e:year': '2015-6'},\n",
       " {'@id': u'10.1056/nejmoa1414792',\n",
       "  'e:authors': [u'Bruce C.V. Campbell',\n",
       "   u'Peter J. Mitchell',\n",
       "   u'Timothy J. Kleinig',\n",
       "   u'Helen M. Dewey',\n",
       "   u'Leonid Churilov'],\n",
       "  'e:cite': 988L,\n",
       "  'e:issn': '0028-4793',\n",
       "  'e:journal': u'New England Journal of Medicine',\n",
       "  'e:month': '1708',\n",
       "  'e:pub': u'New England Journal of Medicine (NEJM/MMS)',\n",
       "  'e:subject': u'General Medicine',\n",
       "  'e:title': u'Endovascular Therapy for Ischemic Stroke with Perfusion-Imaging Selection',\n",
       "  'e:year': '2015-3'},\n",
       " {'@id': u'10.1056/nejmoa1501824',\n",
       "  'e:authors': [u'Edward B. Garon',\n",
       "   u'Naiyer A. Rizvi',\n",
       "   u'Rina Hui',\n",
       "   u'Natasha Leighl',\n",
       "   u'Ani S. Balmanoukian'],\n",
       "  'e:cite': 857L,\n",
       "  'e:issn': '0028-4793',\n",
       "  'e:journal': u'New England Journal of Medicine',\n",
       "  'e:month': '1708',\n",
       "  'e:pub': u'New England Journal of Medicine (NEJM/MMS)',\n",
       "  'e:subject': u'General Medicine',\n",
       "  'e:title': u'Pembrolizumab for the Treatment of Non\\u2013Small-Cell Lung Cancer',\n",
       "  'e:year': '2015-5'},\n",
       " {'@id': u'10.1056/nejmoa1407222',\n",
       "  'e:authors': [u'Shannon L. Maude',\n",
       "   u'Noelle Frey',\n",
       "   u'Pamela A. Shaw',\n",
       "   u'Richard Aplenc',\n",
       "   u'David M. Barrett'],\n",
       "  'e:cite': 801L,\n",
       "  'e:issn': '0028-4793',\n",
       "  'e:journal': u'New England Journal of Medicine',\n",
       "  'e:month': '1708',\n",
       "  'e:pub': u'New England Journal of Medicine (NEJM/MMS)',\n",
       "  'e:subject': u'General Medicine',\n",
       "  'e:title': u'Chimeric Antigen Receptor T Cells for Sustained Remissions in Leukemia',\n",
       "  'e:year': '2014-10'},\n",
       " {'@id': u'10.1056/nejmoa1511939',\n",
       "  'e:authors': [u'Stephan A. Grupp'],\n",
       "  'e:cite': 785L,\n",
       "  'e:issn': '0028-4793',\n",
       "  'e:journal': u'New England Journal of Medicine',\n",
       "  'e:month': '1708',\n",
       "  'e:pub': u'New England Journal of Medicine (NEJM/MMS)',\n",
       "  'e:subject': u'General Medicine',\n",
       "  'e:title': u'A Randomized Trial of Intensive versus Standard Blood-Pressure Control',\n",
       "  'e:year': '2015-11'},\n",
       " {'@id': u'10.1056/nejmoa1415061',\n",
       "  'e:authors': [u'Jeffrey L. Saver',\n",
       "   u'Mayank Goyal',\n",
       "   u'Alain Bonafe',\n",
       "   u'Hans-Christoph Diener',\n",
       "   u'Elad I. Levy'],\n",
       "  'e:cite': 775L,\n",
       "  'e:issn': '0028-4793',\n",
       "  'e:journal': u'New England Journal of Medicine',\n",
       "  'e:month': '1708',\n",
       "  'e:pub': u'New England Journal of Medicine (NEJM/MMS)',\n",
       "  'e:subject': u'General Medicine',\n",
       "  'e:title': u'Stent-Retriever Thrombectomy after Intravenous t-PA vs. t-PA Alone in Stroke',\n",
       "  'e:year': '2015-6'},\n",
       " {'@id': u'10.1056/nejmoa1406498',\n",
       "  'e:authors': [u'Alexandra Snyder',\n",
       "   u'Vladimir Makarov',\n",
       "   u'Taha Merghoub',\n",
       "   u'Jianda Yuan',\n",
       "   u'Jesse M. Zaretsky'],\n",
       "  'e:cite': 773L,\n",
       "  'e:issn': '0028-4793',\n",
       "  'e:journal': u'New England Journal of Medicine',\n",
       "  'e:month': '1708',\n",
       "  'e:pub': u'New England Journal of Medicine (NEJM/MMS)',\n",
       "  'e:subject': u'General Medicine',\n",
       "  'e:title': u'Genetic Basis for Clinical Response to CTLA-4 Blockade in Melanoma',\n",
       "  'e:year': '2014-12'},\n",
       " {'@id': u'10.1056/nejmoa1411087',\n",
       "  'e:authors': [u'Stephen M. Ansell',\n",
       "   u'Alexander M. Lesokhin',\n",
       "   u'Ivan Borrello',\n",
       "   u'Ahmad Halwani',\n",
       "   u'Emma C. Scott'],\n",
       "  'e:cite': 770L,\n",
       "  'e:issn': '0028-4793',\n",
       "  'e:journal': u'New England Journal of Medicine',\n",
       "  'e:month': '1708',\n",
       "  'e:pub': u'New England Journal of Medicine (NEJM/MMS)',\n",
       "  'e:subject': u'General Medicine',\n",
       "  'e:title': u\"PD-1 Blockade with Nivolumab in Relapsed or Refractory Hodgkin's Lymphoma\",\n",
       "  'e:year': '2015-1'},\n",
       " {'@id': u'10.1056/nejmoa1409077',\n",
       "  'e:authors': [u'John J.V. McMurray',\n",
       "   u'Milton Packer',\n",
       "   u'Akshay S. Desai',\n",
       "   u'Jianjian Gong',\n",
       "   u'Martin P. Lefkowitz'],\n",
       "  'e:cite': 765L,\n",
       "  'e:issn': '0028-4793',\n",
       "  'e:journal': u'New England Journal of Medicine',\n",
       "  'e:month': '1708',\n",
       "  'e:pub': u'New England Journal of Medicine (NEJM/MMS)',\n",
       "  'e:subject': u'General Medicine',\n",
       "  'e:title': u'Angiotensin\\u2013Neprilysin Inhibition versus Enalapril in Heart Failure',\n",
       "  'e:year': '2014-9'}]"
      ]
     },
     "execution_count": 66,
     "metadata": {},
     "output_type": "execute_result"
    },
    {
     "name": "stdout",
     "output_type": "stream",
     "text": [
      "\n"
     ]
    }
   ],
   "source": [
    "top_articles"
   ]
  },
  {
   "cell_type": "code",
   "execution_count": 67,
   "metadata": {
    "collapsed": false,
    "scrolled": true
   },
   "outputs": [],
   "source": [
    "with open('../jsonld/top_'+this_month+'.jsonld', 'w') as fp:\n",
    "    json.dump(top_articles, fp)    "
   ]
  },
  {
   "cell_type": "code",
   "execution_count": 57,
   "metadata": {
    "collapsed": false
   },
   "outputs": [
    {
     "ename": "KeyError",
     "evalue": "\"['lic' 'count'] not in index\"",
     "output_type": "error",
     "traceback": [
      "\u001b[1;31m\u001b[0m",
      "\u001b[1;31mKeyError\u001b[0mTraceback (most recent call last)",
      "\u001b[1;32m<ipython-input-57-468e7bfdb02d>\u001b[0m in \u001b[0;36m<module>\u001b[1;34m()\u001b[0m\n\u001b[0;32m      1\u001b[0m \u001b[1;32mfor\u001b[0m \u001b[0msubject\u001b[0m \u001b[1;32min\u001b[0m \u001b[0munique_subjects\u001b[0m\u001b[1;33m:\u001b[0m\u001b[1;33m\u001b[0m\u001b[0m\n\u001b[0;32m      2\u001b[0m     \u001b[0mdf_lic\u001b[0m\u001b[1;33m=\u001b[0m\u001b[0mdf2\u001b[0m\u001b[1;33m[\u001b[0m\u001b[0mdf2\u001b[0m\u001b[1;33m.\u001b[0m\u001b[0msubjects\u001b[0m\u001b[1;33m.\u001b[0m\u001b[0mapply\u001b[0m\u001b[1;33m(\u001b[0m\u001b[1;32mlambda\u001b[0m \u001b[0mx\u001b[0m\u001b[1;33m:\u001b[0m \u001b[0msubject\u001b[0m \u001b[1;32min\u001b[0m \u001b[0mx\u001b[0m\u001b[1;33m.\u001b[0m\u001b[0msplit\u001b[0m\u001b[1;33m(\u001b[0m\u001b[1;34m';'\u001b[0m\u001b[1;33m)\u001b[0m\u001b[1;33m)\u001b[0m\u001b[1;33m]\u001b[0m\u001b[1;33m\u001b[0m\u001b[0m\n\u001b[1;32m----> 3\u001b[1;33m     \u001b[0mtop_lics\u001b[0m\u001b[1;33m=\u001b[0m\u001b[0mdf_lic\u001b[0m\u001b[1;33m[\u001b[0m\u001b[1;33m[\u001b[0m\u001b[1;34m'lic'\u001b[0m\u001b[1;33m,\u001b[0m\u001b[1;34m'count'\u001b[0m\u001b[1;33m]\u001b[0m\u001b[1;33m]\u001b[0m\u001b[1;33m.\u001b[0m\u001b[0mgroupby\u001b[0m\u001b[1;33m(\u001b[0m\u001b[1;34m'lic'\u001b[0m\u001b[1;33m)\u001b[0m\u001b[1;33m.\u001b[0m\u001b[0mcount\u001b[0m\u001b[1;33m(\u001b[0m\u001b[1;33m)\u001b[0m\u001b[1;33m.\u001b[0m\u001b[0msort_values\u001b[0m\u001b[1;33m(\u001b[0m\u001b[1;34m'count'\u001b[0m\u001b[1;33m,\u001b[0m\u001b[0mascending\u001b[0m\u001b[1;33m=\u001b[0m\u001b[0mFalse\u001b[0m\u001b[1;33m)\u001b[0m\u001b[1;33m.\u001b[0m\u001b[0mhead\u001b[0m\u001b[1;33m(\u001b[0m\u001b[1;33m)\u001b[0m\u001b[1;33m.\u001b[0m\u001b[0mreset_index\u001b[0m\u001b[1;33m(\u001b[0m\u001b[1;33m)\u001b[0m\u001b[1;33m.\u001b[0m\u001b[0mto_dict\u001b[0m\u001b[1;33m(\u001b[0m\u001b[1;34m'list'\u001b[0m\u001b[1;33m)\u001b[0m\u001b[1;33m\u001b[0m\u001b[0m\n\u001b[0m\u001b[0;32m      4\u001b[0m     \u001b[0mzips\u001b[0m\u001b[1;33m=\u001b[0m\u001b[0mzip\u001b[0m\u001b[1;33m(\u001b[0m\u001b[0mtop_lics\u001b[0m\u001b[1;33m[\u001b[0m\u001b[1;34m'lic'\u001b[0m\u001b[1;33m]\u001b[0m\u001b[1;33m,\u001b[0m\u001b[0mtop_lics\u001b[0m\u001b[1;33m[\u001b[0m\u001b[1;34m'count'\u001b[0m\u001b[1;33m]\u001b[0m\u001b[1;33m)\u001b[0m\u001b[1;33m\u001b[0m\u001b[0m\n\u001b[0;32m      5\u001b[0m     \u001b[0mtotal_articles\u001b[0m\u001b[1;33m=\u001b[0m\u001b[0mstr\u001b[0m\u001b[1;33m(\u001b[0m\u001b[0mdf_lic\u001b[0m\u001b[1;33m.\u001b[0m\u001b[0mshape\u001b[0m\u001b[1;33m[\u001b[0m\u001b[1;36m0\u001b[0m\u001b[1;33m]\u001b[0m\u001b[1;33m)\u001b[0m\u001b[1;33m\u001b[0m\u001b[0m\n",
      "\u001b[1;32mC:\\Users\\moqri\\AppData\\Local\\Continuum\\Anaconda2\\lib\\site-packages\\pandas\\core\\frame.pyc\u001b[0m in \u001b[0;36m__getitem__\u001b[1;34m(self, key)\u001b[0m\n\u001b[0;32m   1989\u001b[0m         \u001b[1;32mif\u001b[0m \u001b[0misinstance\u001b[0m\u001b[1;33m(\u001b[0m\u001b[0mkey\u001b[0m\u001b[1;33m,\u001b[0m \u001b[1;33m(\u001b[0m\u001b[0mSeries\u001b[0m\u001b[1;33m,\u001b[0m \u001b[0mnp\u001b[0m\u001b[1;33m.\u001b[0m\u001b[0mndarray\u001b[0m\u001b[1;33m,\u001b[0m \u001b[0mIndex\u001b[0m\u001b[1;33m,\u001b[0m \u001b[0mlist\u001b[0m\u001b[1;33m)\u001b[0m\u001b[1;33m)\u001b[0m\u001b[1;33m:\u001b[0m\u001b[1;33m\u001b[0m\u001b[0m\n\u001b[0;32m   1990\u001b[0m             \u001b[1;31m# either boolean or fancy integer index\u001b[0m\u001b[1;33m\u001b[0m\u001b[1;33m\u001b[0m\u001b[0m\n\u001b[1;32m-> 1991\u001b[1;33m             \u001b[1;32mreturn\u001b[0m \u001b[0mself\u001b[0m\u001b[1;33m.\u001b[0m\u001b[0m_getitem_array\u001b[0m\u001b[1;33m(\u001b[0m\u001b[0mkey\u001b[0m\u001b[1;33m)\u001b[0m\u001b[1;33m\u001b[0m\u001b[0m\n\u001b[0m\u001b[0;32m   1992\u001b[0m         \u001b[1;32melif\u001b[0m \u001b[0misinstance\u001b[0m\u001b[1;33m(\u001b[0m\u001b[0mkey\u001b[0m\u001b[1;33m,\u001b[0m \u001b[0mDataFrame\u001b[0m\u001b[1;33m)\u001b[0m\u001b[1;33m:\u001b[0m\u001b[1;33m\u001b[0m\u001b[0m\n\u001b[0;32m   1993\u001b[0m             \u001b[1;32mreturn\u001b[0m \u001b[0mself\u001b[0m\u001b[1;33m.\u001b[0m\u001b[0m_getitem_frame\u001b[0m\u001b[1;33m(\u001b[0m\u001b[0mkey\u001b[0m\u001b[1;33m)\u001b[0m\u001b[1;33m\u001b[0m\u001b[0m\n",
      "\u001b[1;32mC:\\Users\\moqri\\AppData\\Local\\Continuum\\Anaconda2\\lib\\site-packages\\pandas\\core\\frame.pyc\u001b[0m in \u001b[0;36m_getitem_array\u001b[1;34m(self, key)\u001b[0m\n\u001b[0;32m   2033\u001b[0m             \u001b[1;32mreturn\u001b[0m \u001b[0mself\u001b[0m\u001b[1;33m.\u001b[0m\u001b[0mtake\u001b[0m\u001b[1;33m(\u001b[0m\u001b[0mindexer\u001b[0m\u001b[1;33m,\u001b[0m \u001b[0maxis\u001b[0m\u001b[1;33m=\u001b[0m\u001b[1;36m0\u001b[0m\u001b[1;33m,\u001b[0m \u001b[0mconvert\u001b[0m\u001b[1;33m=\u001b[0m\u001b[0mFalse\u001b[0m\u001b[1;33m)\u001b[0m\u001b[1;33m\u001b[0m\u001b[0m\n\u001b[0;32m   2034\u001b[0m         \u001b[1;32melse\u001b[0m\u001b[1;33m:\u001b[0m\u001b[1;33m\u001b[0m\u001b[0m\n\u001b[1;32m-> 2035\u001b[1;33m             \u001b[0mindexer\u001b[0m \u001b[1;33m=\u001b[0m \u001b[0mself\u001b[0m\u001b[1;33m.\u001b[0m\u001b[0mix\u001b[0m\u001b[1;33m.\u001b[0m\u001b[0m_convert_to_indexer\u001b[0m\u001b[1;33m(\u001b[0m\u001b[0mkey\u001b[0m\u001b[1;33m,\u001b[0m \u001b[0maxis\u001b[0m\u001b[1;33m=\u001b[0m\u001b[1;36m1\u001b[0m\u001b[1;33m)\u001b[0m\u001b[1;33m\u001b[0m\u001b[0m\n\u001b[0m\u001b[0;32m   2036\u001b[0m             \u001b[1;32mreturn\u001b[0m \u001b[0mself\u001b[0m\u001b[1;33m.\u001b[0m\u001b[0mtake\u001b[0m\u001b[1;33m(\u001b[0m\u001b[0mindexer\u001b[0m\u001b[1;33m,\u001b[0m \u001b[0maxis\u001b[0m\u001b[1;33m=\u001b[0m\u001b[1;36m1\u001b[0m\u001b[1;33m,\u001b[0m \u001b[0mconvert\u001b[0m\u001b[1;33m=\u001b[0m\u001b[0mTrue\u001b[0m\u001b[1;33m)\u001b[0m\u001b[1;33m\u001b[0m\u001b[0m\n\u001b[0;32m   2037\u001b[0m \u001b[1;33m\u001b[0m\u001b[0m\n",
      "\u001b[1;32mC:\\Users\\moqri\\AppData\\Local\\Continuum\\Anaconda2\\lib\\site-packages\\pandas\\core\\indexing.pyc\u001b[0m in \u001b[0;36m_convert_to_indexer\u001b[1;34m(self, obj, axis, is_setter)\u001b[0m\n\u001b[0;32m   1212\u001b[0m                 \u001b[0mmask\u001b[0m \u001b[1;33m=\u001b[0m \u001b[0mcheck\u001b[0m \u001b[1;33m==\u001b[0m \u001b[1;33m-\u001b[0m\u001b[1;36m1\u001b[0m\u001b[1;33m\u001b[0m\u001b[0m\n\u001b[0;32m   1213\u001b[0m                 \u001b[1;32mif\u001b[0m \u001b[0mmask\u001b[0m\u001b[1;33m.\u001b[0m\u001b[0many\u001b[0m\u001b[1;33m(\u001b[0m\u001b[1;33m)\u001b[0m\u001b[1;33m:\u001b[0m\u001b[1;33m\u001b[0m\u001b[0m\n\u001b[1;32m-> 1214\u001b[1;33m                     \u001b[1;32mraise\u001b[0m \u001b[0mKeyError\u001b[0m\u001b[1;33m(\u001b[0m\u001b[1;34m'%s not in index'\u001b[0m \u001b[1;33m%\u001b[0m \u001b[0mobjarr\u001b[0m\u001b[1;33m[\u001b[0m\u001b[0mmask\u001b[0m\u001b[1;33m]\u001b[0m\u001b[1;33m)\u001b[0m\u001b[1;33m\u001b[0m\u001b[0m\n\u001b[0m\u001b[0;32m   1215\u001b[0m \u001b[1;33m\u001b[0m\u001b[0m\n\u001b[0;32m   1216\u001b[0m                 \u001b[1;32mreturn\u001b[0m \u001b[0m_values_from_object\u001b[0m\u001b[1;33m(\u001b[0m\u001b[0mindexer\u001b[0m\u001b[1;33m)\u001b[0m\u001b[1;33m\u001b[0m\u001b[0m\n",
      "\u001b[1;31mKeyError\u001b[0m: \"['lic' 'count'] not in index\""
     ]
    }
   ],
   "source": [
    "for subject in unique_subjects:\n",
    "    df_lic=df2[df2.subjects.apply(lambda x: subject in x.split(';'))]\n",
    "    top_lics=df_lic[['lic','count']].groupby('lic').count().sort_values('count',ascending=False).head().reset_index().to_dict('list')\n",
    "    zips=zip(top_lics['lic'],top_lics['count'])\n",
    "    total_articles=str(df_lic.shape[0])\n",
    "    items=[{'count':total_articles,'lic':'all'}];\n",
    "    for lic,count in zips:\n",
    "        item={}; \n",
    "        item={'lic':lic,'count':str(count)}\n",
    "        items.append(item)  \n",
    "    with open('../jsonld/lic_'+subject+'.json', 'w') as fp:\n",
    "        json.dump(items, fp)    "
   ]
  }
 ],
 "metadata": {
  "anaconda-cloud": {},
  "kernelspec": {
   "display_name": "Python [Root]",
   "language": "python",
   "name": "Python [Root]"
  },
  "language_info": {
   "codemirror_mode": {
    "name": "ipython",
    "version": 2
   },
   "file_extension": ".py",
   "mimetype": "text/x-python",
   "name": "python",
   "nbconvert_exporter": "python",
   "pygments_lexer": "ipython2",
   "version": "2.7.12"
  }
 },
 "nbformat": 4,
 "nbformat_minor": 0
}
