{
 "cells": [
  {
   "cell_type": "code",
   "execution_count": 4,
   "metadata": {
    "collapsed": true
   },
   "outputs": [],
   "source": [
    "%matplotlib inline\n",
    "import os, io, json, urllib, numpy as np, codecs\n",
    "import glob, pandas as pd\n",
    "pd.options.display.max_rows = 999"
   ]
  },
  {
   "cell_type": "code",
   "execution_count": 5,
   "metadata": {
    "collapsed": true
   },
   "outputs": [],
   "source": [
    "this_month='1711'\n",
    "data_path='../data/'+this_month"
   ]
  },
  {
   "cell_type": "code",
   "execution_count": 6,
   "metadata": {
    "collapsed": false
   },
   "outputs": [
    {
     "data": {
      "text/plain": [
       "(12145854, 15)"
      ]
     },
     "execution_count": 6,
     "metadata": {},
     "output_type": "execute_result"
    }
   ],
   "source": [
    "df=pd.read_csv(data_path+'/cleaned.csv')\n",
    "df.shape"
   ]
  },
  {
   "cell_type": "code",
   "execution_count": 7,
   "metadata": {
    "collapsed": false
   },
   "outputs": [
    {
     "data": {
      "text/plain": [
       "(9650796, 15)"
      ]
     },
     "execution_count": 7,
     "metadata": {},
     "output_type": "execute_result"
    }
   ],
   "source": [
    "df=df[~((df.year==2014) & (df.mm<int(this_month[2:4])))]\n",
    "df.shape"
   ]
  },
  {
   "cell_type": "code",
   "execution_count": 8,
   "metadata": {
    "collapsed": false
   },
   "outputs": [
    {
     "data": {
      "text/plain": [
       "(9650796, 15)"
      ]
     },
     "execution_count": 8,
     "metadata": {},
     "output_type": "execute_result"
    }
   ],
   "source": [
    "df=df[(df['year']<=2017) & (df['year']>=2014)]\n",
    "df.shape"
   ]
  },
  {
   "cell_type": "code",
   "execution_count": 9,
   "metadata": {
    "collapsed": false
   },
   "outputs": [],
   "source": [
    "unique_subjects=pd.read_csv('../store/unique_subjects.csv',header=None)\n",
    "unique_subjects=unique_subjects[0].values"
   ]
  },
  {
   "cell_type": "code",
   "execution_count": 10,
   "metadata": {
    "collapsed": false
   },
   "outputs": [],
   "source": [
    "with open('../store/issn_subject.json') as data_file:    \n",
    "    issn_subject = json.load(data_file)"
   ]
  },
  {
   "cell_type": "code",
   "execution_count": 11,
   "metadata": {
    "collapsed": true
   },
   "outputs": [],
   "source": [
    "df2=df[['doi','main_issn','citation']]"
   ]
  },
  {
   "cell_type": "code",
   "execution_count": 12,
   "metadata": {
    "collapsed": false
   },
   "outputs": [],
   "source": [
    "join_subjects=df2['main_issn'].apply(lambda x: ';'.join(issn_subject[x]) if x in issn_subject else '')"
   ]
  },
  {
   "cell_type": "code",
   "execution_count": 13,
   "metadata": {
    "collapsed": false
   },
   "outputs": [
    {
     "name": "stderr",
     "output_type": "stream",
     "text": [
      "C:\\Users\\moqri\\AppData\\Local\\Continuum\\Anaconda2\\lib\\site-packages\\ipykernel\\__main__.py:1: SettingWithCopyWarning: \n",
      "A value is trying to be set on a copy of a slice from a DataFrame.\n",
      "Try using .loc[row_indexer,col_indexer] = value instead\n",
      "\n",
      "See the caveats in the documentation: http://pandas.pydata.org/pandas-docs/stable/indexing.html#indexing-view-versus-copy\n",
      "  if __name__ == '__main__':\n"
     ]
    }
   ],
   "source": [
    "df2['subjects']=join_subjects.values"
   ]
  },
  {
   "cell_type": "code",
   "execution_count": 14,
   "metadata": {
    "collapsed": false
   },
   "outputs": [
    {
     "data": {
      "text/plain": [
       "(9650796L,)"
      ]
     },
     "execution_count": 14,
     "metadata": {},
     "output_type": "execute_result"
    }
   ],
   "source": [
    "df2['main_issn'].apply(lambda x: ';'.join(issn_subject[x]) if x in issn_subject else '').shape"
   ]
  },
  {
   "cell_type": "code",
   "execution_count": 15,
   "metadata": {
    "collapsed": false
   },
   "outputs": [],
   "source": [
    "unique_subjects=[]\n",
    "all_subjects=df2['subjects'].values\n",
    "for journal_subjects in all_subjects:\n",
    "    subjects=journal_subjects.split(';')\n",
    "    for subject in subjects:\n",
    "        if subject not in unique_subjects: unique_subjects.append(subject)"
   ]
  },
  {
   "cell_type": "code",
   "execution_count": 16,
   "metadata": {
    "collapsed": false
   },
   "outputs": [
    {
     "data": {
      "text/plain": [
       "327"
      ]
     },
     "execution_count": 16,
     "metadata": {},
     "output_type": "execute_result"
    }
   ],
   "source": [
    "len(unique_subjects)"
   ]
  },
  {
   "cell_type": "code",
   "execution_count": 21,
   "metadata": {
    "collapsed": false,
    "scrolled": true
   },
   "outputs": [
    {
     "name": "stdout",
     "output_type": "stream",
     "text": [
      "0 1 2 3 4 5 6 7 8 9 10 11 12 13 14 15 16 17 18 19 20 21 22 23 24 25 26 27 28 29 30 31 32 33 34 35 36 37 38 39 40 41 42 43 44 45 46 47 48 49 50 51 52 53 54 55 56 57 58 59 60 61 62 63 64 65 66 67 68 69 70 71 72 73 74 75 76 77 78 79 80 81 82 83 84 85 86 87 88 89 90 91 92 93 94 95 96 97 98 99 100 101 102 103 104 105 106 107 108 109 110 111 112 113 114 115 116 117 118 119 120 121 122 123 124 125 126 127 128 129 130 131 132 133 134 135 136 137 138 139 140 141 142 143 144 145 146 147 148 149 150 151 152 153 154 155 156 157 158 159 160 161 162 163 164 165 166 167 168 169 170 171 172 173 174 175 176 177 178 179 180 181 182 183 184 185 186 187 188 189 190 191 192 193 194 195 196 197 198 199 200 201 202 203 204 205 206 207 208 209 210 211 212 213 214 215 216 217 218 219 220 221 222 223 224 225 226 227 228 229 230 231 232 233 234 235 236 237 238 239 240 241 242 243 244 245 246 247 248 249 250 251 252 253 254 255 256 257 258 259 260 261 262 263 264 265 266 267 268 269 270 271 272 273 274 275 276 277 278 279 280 281 282 283 284 285 286 287 288 289 290 291 292 293 294 295 296 297 298 299 300 301 302 303 304 305 306 307 308 309 310 311 312 313 314 315 316 317 318 319 320 321 322 323 324 325 326\n"
     ]
    }
   ],
   "source": [
    "top_articles=[]\n",
    "counter=0\n",
    "for subject in unique_subjects:\n",
    "    if subject=='':\n",
    "        df_subject=df2.sort_values('citation', ascending= False)[:20]\n",
    "    else:\n",
    "        df_subject=df2[df2.subjects.apply(lambda x: subject in x.split(';'))].sort_values('citation', ascending= False)[:20]\n",
    "    top_dois=df_subject[['doi','main_issn','citation']].to_dict('list')\n",
    "    zips=zip(top_dois['doi'],top_dois['main_issn'],top_dois['citation'])\n",
    "    items=[];\n",
    "    for doi,issn,citation in zips:\n",
    "        item={}; item_cleaned={}\n",
    "        url='http://api.crossref.org/works/'+doi\n",
    "        while True:\n",
    "            try:\n",
    "                response = urllib.urlopen(url).read()    \n",
    "            except Exception,e: \n",
    "                print str(e)\n",
    "                time.sleep(1)\n",
    "                continue\n",
    "            break\n",
    "        json_result=json.loads(response)\n",
    "        item = json_result['message']\n",
    "        year_print=[9999,99,99];year_online=[9999,99,99];\n",
    "        if 'title' in item:\n",
    "            title=item['title'][0]\n",
    "        if 'published-print' in item:\n",
    "            year_print=item['published-print']['date-parts'][0]                \n",
    "        if 'published-online' in item:\n",
    "            year_online=item['published-online']['date-parts'][0]\n",
    "        year=min(year_print,year_online)\n",
    "        if 'DOI' in item: doi=item['DOI']\n",
    "        if 'container-title' in item: journal=','.join(item['container-title'])\n",
    "        if 'publisher' in item: pub=item['publisher']; pub=''if pub==None else pub\n",
    "        if 'references-count' in item: ref=str(item['references-count'])\n",
    "        authors=[]\n",
    "        if 'author' in item: \n",
    "            for author in item['author']:\n",
    "                if 'given' in author:\n",
    "                    author_name=author['given']\n",
    "                if 'family' in author:\n",
    "                    author_name+=' '+author['family']\n",
    "                authors.append(author_name)\n",
    "        if len(authors)>5: authors=authors[:5]\n",
    "        if len(year)>1 :\n",
    "            month=str(year[1]) \n",
    "        else: month=''\n",
    "        item_cleaned={'@id':doi,\n",
    "                      'e:title':title,\n",
    "                      'e:year':str(year[0])+'-'+month,\n",
    "                      'e:cite':np.asscalar(citation),\n",
    "                      'e:issn':issn, \n",
    "                      'e:journal':journal,\n",
    "                      'e:pub':pub,\n",
    "                      'e:authors':authors,\n",
    "                      'e:subject':subject,\n",
    "                      'e:month':this_month} \n",
    "        if item_cleaned not in top_articles:\n",
    "            top_articles.append(item_cleaned)\n",
    "    print counter,\n",
    "    counter+=1            "
   ]
  },
  {
   "cell_type": "code",
   "execution_count": 23,
   "metadata": {
    "collapsed": true
   },
   "outputs": [],
   "source": [
    "with open('..\\web\\cats.json') as data_file:    \n",
    "    cat_subject=json.load(data_file)"
   ]
  },
  {
   "cell_type": "code",
   "execution_count": 24,
   "metadata": {
    "collapsed": true
   },
   "outputs": [],
   "source": [
    "sub_cat={}\n",
    "for cat in cat_subject.keys():\n",
    "    for sub in cat_subject[cat].split(';'):\n",
    "        sub_cat[sub]=cat"
   ]
  },
  {
   "cell_type": "code",
   "execution_count": 35,
   "metadata": {
    "collapsed": false
   },
   "outputs": [],
   "source": [
    "top_articles_new=[]\n",
    "for a in top_articles:\n",
    "    a['e:subject']=a['e:subject'].strip()\n",
    "    a['e:category']=''\n",
    "    subject=a['e:subject']\n",
    "    if subject!='':\n",
    "        cat=sub_cat[subject]\n",
    "        a['e:category']=sub_cat[subject]\n",
    "    top_articles_new.append(a)"
   ]
  },
  {
   "cell_type": "code",
   "execution_count": 37,
   "metadata": {
    "collapsed": false,
    "scrolled": true
   },
   "outputs": [],
   "source": [
    "with open('../jsonld/'+this_month+'/top_articles.jsonld', 'w') as fp:\n",
    "    json.dump(top_articles_new, fp)    "
   ]
  },
  {
   "cell_type": "markdown",
   "metadata": {
    "collapsed": false
   },
   "source": [
    "for subject in unique_subjects:\n",
    "    df_lic=df2[df2.subjects.apply(lambda x: subject in x.split(';'))]\n",
    "    top_lics=df_lic[['lic','count']].groupby('lic').count().sort_values('count',ascending=False).head().reset_index().to_dict('list')\n",
    "    zips=zip(top_lics['lic'],top_lics['count'])\n",
    "    total_articles=str(df_lic.shape[0])\n",
    "    items=[{'count':total_articles,'lic':'all'}];\n",
    "    for lic,count in zips:\n",
    "        item={}; \n",
    "        item={'lic':lic,'count':str(count)}\n",
    "        items.append(item)  \n",
    "    with open('../jsonld/lic_'+subject+'.json', 'w') as fp:\n",
    "        json.dump(items, fp)    "
   ]
  },
  {
   "cell_type": "code",
   "execution_count": null,
   "metadata": {
    "collapsed": true
   },
   "outputs": [],
   "source": []
  }
 ],
 "metadata": {
  "anaconda-cloud": {},
  "kernelspec": {
   "display_name": "Python [Root]",
   "language": "python",
   "name": "Python [Root]"
  },
  "language_info": {
   "codemirror_mode": {
    "name": "ipython",
    "version": 2
   },
   "file_extension": ".py",
   "mimetype": "text/x-python",
   "name": "python",
   "nbconvert_exporter": "python",
   "pygments_lexer": "ipython2",
   "version": "2.7.12"
  }
 },
 "nbformat": 4,
 "nbformat_minor": 0
}
