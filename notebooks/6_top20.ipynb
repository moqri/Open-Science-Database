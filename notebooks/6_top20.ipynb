{
 "cells": [
  {
   "cell_type": "code",
   "execution_count": 1,
   "metadata": {
    "collapsed": true
   },
   "outputs": [],
   "source": [
    "%matplotlib inline\n",
    "import os, io, json, urllib, numpy as np, codecs\n",
    "import glob, pandas as pd\n",
    "pd.options.display.max_rows = 999"
   ]
  },
  {
   "cell_type": "code",
   "execution_count": 2,
   "metadata": {
    "collapsed": true
   },
   "outputs": [],
   "source": [
    "this_month='1709'\n",
    "data_path='../data/'+this_month"
   ]
  },
  {
   "cell_type": "code",
   "execution_count": 3,
   "metadata": {
    "collapsed": false
   },
   "outputs": [
    {
     "data": {
      "text/plain": [
       "(10867268, 15)"
      ]
     },
     "execution_count": 3,
     "metadata": {},
     "output_type": "execute_result"
    }
   ],
   "source": [
    "df=pd.read_csv(data_path+'/cleaned.csv')\n",
    "df.shape"
   ]
  },
  {
   "cell_type": "code",
   "execution_count": 4,
   "metadata": {
    "collapsed": false
   },
   "outputs": [
    {
     "data": {
      "text/plain": [
       "(8818249, 15)"
      ]
     },
     "execution_count": 4,
     "metadata": {},
     "output_type": "execute_result"
    }
   ],
   "source": [
    "df=df[~((df.year==2014) & (df.mm<9))]\n",
    "df.shape"
   ]
  },
  {
   "cell_type": "code",
   "execution_count": 5,
   "metadata": {
    "collapsed": false
   },
   "outputs": [
    {
     "data": {
      "text/plain": [
       "(8818249, 15)"
      ]
     },
     "execution_count": 5,
     "metadata": {},
     "output_type": "execute_result"
    }
   ],
   "source": [
    "df=df[(df['year']<=2017) & (df['year']>=2014)]\n",
    "df.shape"
   ]
  },
  {
   "cell_type": "code",
   "execution_count": 6,
   "metadata": {
    "collapsed": false
   },
   "outputs": [],
   "source": [
    "unique_subjects=pd.read_csv('../store/unique_subjects.csv',header=None)\n",
    "unique_subjects=unique_subjects[0].values"
   ]
  },
  {
   "cell_type": "code",
   "execution_count": 7,
   "metadata": {
    "collapsed": false
   },
   "outputs": [],
   "source": [
    "with open('../store/issn_subject.json') as data_file:    \n",
    "    issn_subject = json.load(data_file)"
   ]
  },
  {
   "cell_type": "code",
   "execution_count": 8,
   "metadata": {
    "collapsed": true
   },
   "outputs": [],
   "source": [
    "df2=df[['doi','main_issn','citation']]"
   ]
  },
  {
   "cell_type": "code",
   "execution_count": 9,
   "metadata": {
    "collapsed": false
   },
   "outputs": [],
   "source": [
    "join_subjects=df2['main_issn'].apply(lambda x: ';'.join(issn_subject[x]) if x in issn_subject else '')"
   ]
  },
  {
   "cell_type": "code",
   "execution_count": 14,
   "metadata": {
    "collapsed": false
   },
   "outputs": [
    {
     "name": "stderr",
     "output_type": "stream",
     "text": [
      "C:\\Users\\moqri\\AppData\\Local\\Continuum\\Anaconda2\\lib\\site-packages\\ipykernel\\__main__.py:1: SettingWithCopyWarning: \n",
      "A value is trying to be set on a copy of a slice from a DataFrame.\n",
      "Try using .loc[row_indexer,col_indexer] = value instead\n",
      "\n",
      "See the caveats in the documentation: http://pandas.pydata.org/pandas-docs/stable/indexing.html#indexing-view-versus-copy\n",
      "  if __name__ == '__main__':\n"
     ]
    }
   ],
   "source": [
    "df2['subjects']=join_subjects.values"
   ]
  },
  {
   "cell_type": "code",
   "execution_count": 15,
   "metadata": {
    "collapsed": false
   },
   "outputs": [
    {
     "data": {
      "text/plain": [
       "(8818249L,)"
      ]
     },
     "execution_count": 15,
     "metadata": {},
     "output_type": "execute_result"
    }
   ],
   "source": [
    "df2['main_issn'].apply(lambda x: ';'.join(issn_subject[x]) if x in issn_subject else '').shape"
   ]
  },
  {
   "cell_type": "code",
   "execution_count": 16,
   "metadata": {
    "collapsed": false
   },
   "outputs": [],
   "source": [
    "unique_subjects=[]\n",
    "all_subjects=df2['subjects'].values\n",
    "for journal_subjects in all_subjects:\n",
    "    subjects=journal_subjects.split(';')\n",
    "    for subject in subjects:\n",
    "        if subject not in unique_subjects: unique_subjects.append(subject)"
   ]
  },
  {
   "cell_type": "code",
   "execution_count": 17,
   "metadata": {
    "collapsed": false
   },
   "outputs": [
    {
     "data": {
      "text/plain": [
       "327"
      ]
     },
     "execution_count": 17,
     "metadata": {},
     "output_type": "execute_result"
    }
   ],
   "source": [
    "len(unique_subjects)"
   ]
  },
  {
   "cell_type": "code",
   "execution_count": null,
   "metadata": {
    "collapsed": false,
    "scrolled": true
   },
   "outputs": [
    {
     "name": "stdout",
     "output_type": "stream",
     "text": [
      "0 1 2 3"
     ]
    }
   ],
   "source": [
    "top_articles=[]\n",
    "counter=0\n",
    "for subject in unique_subjects:\n",
    "    if subject=='':\n",
    "        df_subject=df2.sort_values('citation', ascending= False)[:20]\n",
    "    else:\n",
    "        df_subject=df2[df2.subjects.apply(lambda x: subject in x.split(';'))].sort_values('citation', ascending= False)[:20]\n",
    "    top_dois=df_subject[['doi','main_issn','citation']].to_dict('list')\n",
    "    zips=zip(top_dois['doi'],top_dois['main_issn'],top_dois['citation'])\n",
    "    items=[];\n",
    "    for doi,issn,citation in zips:\n",
    "        item={}; item_cleaned={}\n",
    "        url='http://api.crossref.org/works/'+doi\n",
    "        while True:\n",
    "            try:\n",
    "                response = urllib.urlopen(url).read()    \n",
    "            except Exception,e: \n",
    "                print str(e)\n",
    "                time.sleep(1)\n",
    "                continue\n",
    "            break\n",
    "        json_result=json.loads(response)\n",
    "        item = json_result['message']\n",
    "        year_print=[9999,99,99];year_online=[9999,99,99];\n",
    "        if 'title' in item:\n",
    "            title=item['title'][0]\n",
    "        if 'published-print' in item:\n",
    "            year_print=item['published-print']['date-parts'][0]                \n",
    "        if 'published-online' in item:\n",
    "            year_online=item['published-online']['date-parts'][0]\n",
    "        year=min(year_print,year_online)\n",
    "        if 'DOI' in item: doi=item['DOI']\n",
    "        if 'container-title' in item: journal=','.join(item['container-title'])\n",
    "        if 'publisher' in item: pub=item['publisher']; pub=''if pub==None else pub\n",
    "        if 'references-count' in item: ref=str(item['references-count'])\n",
    "        authors=[]\n",
    "        if 'author' in item: \n",
    "            for author in item['author']:\n",
    "                if 'given' in author:\n",
    "                    author_name=author['given']\n",
    "                if 'family' in author:\n",
    "                    author_name+=' '+author['family']\n",
    "                authors.append(author_name)\n",
    "        if len(authors)>5: authors=authors[:5]\n",
    "        if len(year)>1 :\n",
    "            month=str(year[1]) \n",
    "        else: month=''\n",
    "        item_cleaned={'@id':doi,\n",
    "                      'e:title':title,\n",
    "                      'e:year':str(year[0])+'-'+month,\n",
    "                      'e:cite':np.asscalar(citation),\n",
    "                      'e:issn':issn, \n",
    "                      'e:journal':journal,\n",
    "                      'e:pub':pub,\n",
    "                      'e:authors':authors,\n",
    "                      'e:subject':subject,\n",
    "                      'e:month':this_month} \n",
    "        if item_cleaned not in top_articles:\n",
    "            top_articles.append(item_cleaned)\n",
    "    print counter,\n",
    "    counter+=1            "
   ]
  },
  {
   "cell_type": "code",
   "execution_count": null,
   "metadata": {
    "collapsed": false,
    "scrolled": true
   },
   "outputs": [],
   "source": [
    "with open('../jsonld/'+this_month+'/top_articles.jsonld', 'w') as fp:\n",
    "    json.dump(top_articles, fp)    "
   ]
  },
  {
   "cell_type": "markdown",
   "metadata": {
    "collapsed": false
   },
   "source": [
    "for subject in unique_subjects:\n",
    "    df_lic=df2[df2.subjects.apply(lambda x: subject in x.split(';'))]\n",
    "    top_lics=df_lic[['lic','count']].groupby('lic').count().sort_values('count',ascending=False).head().reset_index().to_dict('list')\n",
    "    zips=zip(top_lics['lic'],top_lics['count'])\n",
    "    total_articles=str(df_lic.shape[0])\n",
    "    items=[{'count':total_articles,'lic':'all'}];\n",
    "    for lic,count in zips:\n",
    "        item={}; \n",
    "        item={'lic':lic,'count':str(count)}\n",
    "        items.append(item)  \n",
    "    with open('../jsonld/lic_'+subject+'.json', 'w') as fp:\n",
    "        json.dump(items, fp)    "
   ]
  }
 ],
 "metadata": {
  "anaconda-cloud": {},
  "kernelspec": {
   "display_name": "Python [Root]",
   "language": "python",
   "name": "Python [Root]"
  },
  "language_info": {
   "codemirror_mode": {
    "name": "ipython",
    "version": 2
   },
   "file_extension": ".py",
   "mimetype": "text/x-python",
   "name": "python",
   "nbconvert_exporter": "python",
   "pygments_lexer": "ipython2",
   "version": "2.7.12"
  }
 },
 "nbformat": 4,
 "nbformat_minor": 0
}
