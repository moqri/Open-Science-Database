{
 "cells": [
  {
   "cell_type": "code",
   "execution_count": 1,
   "metadata": {
    "collapsed": true
   },
   "outputs": [],
   "source": [
    "import os, io, json, urllib, numpy as np, codecs\n",
    "import pandas as pd\n",
    "from ast import literal_eval"
   ]
  },
  {
   "cell_type": "code",
   "execution_count": 2,
   "metadata": {
    "collapsed": false
   },
   "outputs": [],
   "source": [
    "unique_subjects=pd.read_csv('../store/unique_subjects.csv',header=None)\n",
    "unique_subjects=unique_subjects[0].values"
   ]
  },
  {
   "cell_type": "code",
   "execution_count": 3,
   "metadata": {
    "collapsed": false
   },
   "outputs": [],
   "source": [
    "with open ('../store/ASJC.txt','r') as myfile:\n",
    "    ASJC=myfile.read()"
   ]
  },
  {
   "cell_type": "code",
   "execution_count": 4,
   "metadata": {
    "collapsed": false
   },
   "outputs": [],
   "source": [
    "ASJC=ASJC.replace('General','Multidisciplinary')\n",
    "ASJC=ASJC.replace('veterinary','Veterinary')\n",
    "ASJC=ASJC.replace('General veterinary','General Veterinary')\n",
    "ASJC=ASJC.replace('veterinary (miscalleneous','Veterinary (miscalleneous)')"
   ]
  },
  {
   "cell_type": "code",
   "execution_count": 5,
   "metadata": {
    "collapsed": false
   },
   "outputs": [],
   "source": [
    "from StringIO import StringIO\n",
    "subject_cats=pd.read_table(StringIO(ASJC),delimiter=';')#from github\n",
    "subject_cats.shape \n",
    "subject_cats['Low']=subject_cats.Low.apply(lambda x: 'General '+x.replace('(all)','') if '(all)' in x else x)"
   ]
  },
  {
   "cell_type": "code",
   "execution_count": 6,
   "metadata": {
    "collapsed": false
   },
   "outputs": [
    {
     "name": "stdout",
     "output_type": "stream",
     "text": [
      "Architecture \n",
      "Immunology and Microbiology (miscellaneous) \n",
      "Pathophysiology\n",
      "Medical Terminology\n",
      "Respiratory Care\n"
     ]
    }
   ],
   "source": [
    "for i in subject_cats.Low.values:\n",
    "    if i not in unique_subjects:\n",
    "        print i"
   ]
  },
  {
   "cell_type": "code",
   "execution_count": 7,
   "metadata": {
    "collapsed": false
   },
   "outputs": [
    {
     "name": "stdout",
     "output_type": "stream",
     "text": [
      "Architecture\n",
      "Immunology and Microbiology (miscellaneous)\n"
     ]
    }
   ],
   "source": [
    "for i in unique_subjects:\n",
    "    if i not in subject_cats.Low.values:\n",
    "        print i"
   ]
  },
  {
   "cell_type": "code",
   "execution_count": 8,
   "metadata": {
    "collapsed": false
   },
   "outputs": [],
   "source": [
    "cats={}\n",
    "for i, row in subject_cats.iterrows():\n",
    "    cat=row.Middle.strip()\n",
    "    subject=(row.Low).strip()\n",
    "    if cat in cats:\n",
    "        cats[cat]=cats[cat]+';'+subject\n",
    "    else:\n",
    "        cats[cat]=subject"
   ]
  },
  {
   "cell_type": "code",
   "execution_count": 9,
   "metadata": {
    "collapsed": false
   },
   "outputs": [],
   "source": [
    "with open('..\\web\\cats.json', 'w') as outfile:\n",
    "    json.dump(cats, outfile)"
   ]
  }
 ],
 "metadata": {
  "anaconda-cloud": {},
  "kernelspec": {
   "display_name": "Python [Root]",
   "language": "python",
   "name": "Python [Root]"
  },
  "language_info": {
   "codemirror_mode": {
    "name": "ipython",
    "version": 2
   },
   "file_extension": ".py",
   "mimetype": "text/x-python",
   "name": "python",
   "nbconvert_exporter": "python",
   "pygments_lexer": "ipython2",
   "version": "2.7.12"
  }
 },
 "nbformat": 4,
 "nbformat_minor": 0
}
