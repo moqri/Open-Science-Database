{
 "cells": [
  {
   "cell_type": "code",
   "execution_count": 107,
   "metadata": {
    "collapsed": false
   },
   "outputs": [],
   "source": [
    "%matplotlib inline\n",
    "import os, io, json, urllib, numpy as np, codecs, math, collections\n",
    "import glob, pandas as pd\n",
    "pd.options.display.max_rows = 999\n",
    "import pickle"
   ]
  },
  {
   "cell_type": "code",
   "execution_count": 35,
   "metadata": {
    "collapsed": true
   },
   "outputs": [],
   "source": [
    "this_month='1711'\n",
    "data_path='../data/'+this_month\n",
    "last_year=6"
   ]
  },
  {
   "cell_type": "code",
   "execution_count": 36,
   "metadata": {
    "collapsed": true
   },
   "outputs": [],
   "source": [
    "def h_(citation):\n",
    "    citation=list(citation)\n",
    "    h=0\n",
    "    citation.sort(reverse=True)\n",
    "    for i in range(1,len(citation)+1):\n",
    "        if citation[i-1] >= i:\n",
    "            h=i\n",
    "    return h"
   ]
  },
  {
   "cell_type": "code",
   "execution_count": 37,
   "metadata": {
    "collapsed": false
   },
   "outputs": [
    {
     "data": {
      "text/plain": [
       "(7337746, 15)"
      ]
     },
     "execution_count": 37,
     "metadata": {},
     "output_type": "execute_result"
    }
   ],
   "source": [
    "df=pd.read_csv(data_path+'/cleaned.csv')\n",
    "df.shape"
   ]
  },
  {
   "cell_type": "code",
   "execution_count": 38,
   "metadata": {
    "collapsed": false
   },
   "outputs": [
    {
     "data": {
      "text/plain": [
       "(7337746, 15)"
      ]
     },
     "execution_count": 38,
     "metadata": {},
     "output_type": "execute_result"
    }
   ],
   "source": [
    "#df['year']=df['year'].str[1:5].astype(int)\n",
    "df=df[df.year<2017]\n",
    "df.shape"
   ]
  },
  {
   "cell_type": "code",
   "execution_count": 39,
   "metadata": {
    "collapsed": false
   },
   "outputs": [],
   "source": [
    "df2=df\n",
    "df2['@id']=df2.main_issn"
   ]
  },
  {
   "cell_type": "code",
   "execution_count": 40,
   "metadata": {
    "collapsed": false
   },
   "outputs": [
    {
     "data": {
      "text/plain": [
       "(98146, 5)"
      ]
     },
     "execution_count": 40,
     "metadata": {},
     "output_type": "execute_result"
    }
   ],
   "source": [
    "dg=df2.groupby(['@id','year']).agg({'count':sum,'citation':sum}).reset_index()\n",
    "dg['impact']=dg['citation'].div(dg['count']).round(2)\n",
    "dg.shape"
   ]
  },
  {
   "cell_type": "code",
   "execution_count": 41,
   "metadata": {
    "collapsed": false
   },
   "outputs": [
    {
     "data": {
      "text/plain": [
       "(39542, 3)"
      ]
     },
     "execution_count": 41,
     "metadata": {},
     "output_type": "execute_result"
    }
   ],
   "source": [
    "dg_h=df2[['@id','citation']].groupby(['@id']).agg(lambda x:tuple(x)).reset_index()\n",
    "dg_h['h']=dg_h.citation.apply(lambda x: h_(x))\n",
    "dg_h.shape"
   ]
  },
  {
   "cell_type": "code",
   "execution_count": 42,
   "metadata": {
    "collapsed": false
   },
   "outputs": [
    {
     "data": {
      "text/plain": [
       "(39542, 4)"
      ]
     },
     "execution_count": 42,
     "metadata": {},
     "output_type": "execute_result"
    }
   ],
   "source": [
    "dg_i=df2.groupby(['@id']).agg({'count':sum,'citation':sum}).reset_index()\n",
    "dg_i['impact']=dg_i['citation'].div(dg_i['count']).round(2)\n",
    "dg_i.shape"
   ]
  },
  {
   "cell_type": "code",
   "execution_count": 43,
   "metadata": {
    "collapsed": false
   },
   "outputs": [],
   "source": [
    "dg_flat=dg.pivot(index='@id',columns='year')\n",
    "dg_flat.columns = [col[0]+'_'+str(col[1])[3] for col in dg_flat.columns.values]\n",
    "dg_flat=dg_flat.reset_index()"
   ]
  },
  {
   "cell_type": "code",
   "execution_count": 44,
   "metadata": {
    "collapsed": false
   },
   "outputs": [
    {
     "data": {
      "text/plain": [
       "(39542, 14)"
      ]
     },
     "execution_count": 44,
     "metadata": {},
     "output_type": "execute_result"
    }
   ],
   "source": [
    "dg_merge=dg_flat.merge(dg_i[['@id','count','citation','impact']])\\\n",
    ".merge(dg_h[['@id','h']]).fillna(0,downcast='infer')\n",
    "dg_merge.shape"
   ]
  },
  {
   "cell_type": "code",
   "execution_count": 45,
   "metadata": {
    "collapsed": false
   },
   "outputs": [],
   "source": [
    "work_batches=dg_merge.shape[0]/10000\n",
    "for s in range(work_batches+1):\n",
    "    dic=[]\n",
    "    for index, i in dg_merge[10000*s:10000*(s+1)].iterrows():\n",
    "        journal={}\n",
    "        journal['@id']=i['@id']\n",
    "        for y in range(4,last_year): \n",
    "            journal['e:count_'+str(y)]=i['count_'+str(y)]\n",
    "            journal['e:citation_'+str(y)]=i['citation_'+str(y)]\n",
    "            journal['e:impact_'+str(y)]=round(i['impact_'+str(y)],2)\n",
    "        journal['e:count']=i['count']\n",
    "        journal['e:citation']=i['citation']\n",
    "        journal['e:impact']=round(i['impact'],2)\n",
    "        journal['e:h']=i['h']\n",
    "        if journal not in dic:\n",
    "            dic.append(journal)\n",
    "    with open('../jsonld/'+this_month+'/'+str(s)+'_from_works.jsonld', 'w') as outfile:\n",
    "        json.dump(dic, outfile)"
   ]
  },
  {
   "cell_type": "code",
   "execution_count": 46,
   "metadata": {
    "collapsed": false
   },
   "outputs": [],
   "source": [
    "with open(data_path +'/journals.pkl', 'rb') as f:\n",
    "    dic=pickle.load(f)"
   ]
  },
  {
   "cell_type": "code",
   "execution_count": 47,
   "metadata": {
    "collapsed": false
   },
   "outputs": [
    {
     "data": {
      "text/plain": [
       "330"
      ]
     },
     "execution_count": 47,
     "metadata": {},
     "output_type": "execute_result"
    }
   ],
   "source": [
    "unique_subjects=[]\n",
    "for j in dic:\n",
    "    for s in j['e:subjects']: \n",
    "        if s not in unique_subjects: \n",
    "            unique_subjects.append(s)\n",
    "len(unique_subjects)  "
   ]
  },
  {
   "cell_type": "code",
   "execution_count": 48,
   "metadata": {
    "collapsed": true
   },
   "outputs": [],
   "source": [
    "pd.DataFrame(unique_subjects).to_csv('../store/unique_subjects.csv',header=False,index=False,encoding='utf-8')"
   ]
  },
  {
   "cell_type": "code",
   "execution_count": 49,
   "metadata": {
    "collapsed": true
   },
   "outputs": [],
   "source": [
    "main_issns=pd.read_csv('../store/main_issns.csv',header=None)\n",
    "main_issns=main_issns[0].values"
   ]
  },
  {
   "cell_type": "code",
   "execution_count": 50,
   "metadata": {
    "collapsed": false
   },
   "outputs": [],
   "source": [
    "with open('..\\web\\cats.json') as data_file:    \n",
    "    cat_subject=json.load(data_file)"
   ]
  },
  {
   "cell_type": "code",
   "execution_count": 51,
   "metadata": {
    "collapsed": false
   },
   "outputs": [],
   "source": [
    "sub_cat={}\n",
    "for cat in cat_subject.keys():\n",
    "    for sub in cat_subject[cat].split(';'):\n",
    "        sub_cat[sub]=cat"
   ]
  },
  {
   "cell_type": "code",
   "execution_count": 52,
   "metadata": {
    "collapsed": false
   },
   "outputs": [
    {
     "name": "stdout",
     "output_type": "stream",
     "text": [
      "1 2 3 4 5 6 7 8 9 10 11 12 13 14 15 16 17 18 19 20 21 22 23 24 25 26 27 28 29 30 31 32 33 34 35 36 37 38 39 40 41 42 43 44 45 46 47 48 49 50 51 52 53"
     ]
    },
    {
     "data": {
      "text/plain": [
       "39015"
      ]
     },
     "execution_count": 52,
     "metadata": {},
     "output_type": "execute_result"
    },
    {
     "name": "stdout",
     "output_type": "stream",
     "text": [
      "\n"
     ]
    }
   ],
   "source": [
    "dic_new=[]; i=0\n",
    "for j in dic:\n",
    "    i=i+1;\n",
    "    if i%1000==0: print i/1000,\n",
    "    j_new=j\n",
    "    j_new['e:category']=[]\n",
    "    for subject in j['e:subjects']:\n",
    "        cat=sub_cat[subject]\n",
    "        if cat not in j_new['e:category']:\n",
    "            j_new['e:category'].append(sub_cat[subject])\n",
    "    if j['e:issn'][0] in main_issns:        \n",
    "        j_new['@id']=j['e:issn'][0]\n",
    "        dic_new.append(j_new)    \n",
    "    elif len(j['e:issn'])>1:\n",
    "        if j['e:issn'][1] in main_issns:\n",
    "            j_new['@id']=j['e:issn'][1]\n",
    "            dic_new.append(j_new)  \n",
    "len(dic_new)        "
   ]
  },
  {
   "cell_type": "code",
   "execution_count": 56,
   "metadata": {
    "collapsed": true
   },
   "outputs": [],
   "source": [
    "doaj_df = pd.read_csv('../store/doaj_20171126_1530_utf8.csv')"
   ]
  },
  {
   "cell_type": "code",
   "execution_count": 57,
   "metadata": {
    "collapsed": false
   },
   "outputs": [],
   "source": [
    "doaj_print=doaj_df['Journal ISSN (print version)'].values\n",
    "doaj_online=doaj_df['Journal EISSN (online version)'].values\n",
    "doaj_issns=np.concatenate([doaj_print,doaj_online])\n",
    "doaj_issns=list(set(doaj_issns))"
   ]
  },
  {
   "cell_type": "code",
   "execution_count": 58,
   "metadata": {
    "collapsed": false
   },
   "outputs": [
    {
     "data": {
      "text/plain": [
       "6654"
      ]
     },
     "execution_count": 58,
     "metadata": {},
     "output_type": "execute_result"
    }
   ],
   "source": [
    "dic_open=[]\n",
    "i=0\n",
    "cat=0\n",
    "for journal in dic_new:\n",
    "    for issn in journal['e:issn']:\n",
    "        if issn in doaj_issns:\n",
    "            i+=1 \n",
    "            if len(journal['e:category']) >0:\n",
    "                cat+=1\n",
    "            journal['e:open']=1\n",
    "            journal['e:road_url']=doaj_issns[doaj_issns.index(issn)]\n",
    "            dic_open.append(journal)\n",
    "            break    \n",
    "i"
   ]
  },
  {
   "cell_type": "code",
   "execution_count": 59,
   "metadata": {
    "collapsed": false
   },
   "outputs": [
    {
     "data": {
      "text/plain": [
       "2133"
      ]
     },
     "execution_count": 59,
     "metadata": {},
     "output_type": "execute_result"
    }
   ],
   "source": [
    "cat"
   ]
  },
  {
   "cell_type": "code",
   "execution_count": 60,
   "metadata": {
    "collapsed": true
   },
   "outputs": [],
   "source": [
    "journal_batches=len(dic_open)/10000\n",
    "for s in range(journal_batches+1):\n",
    "    dic_chunk=dic_open[10000*s:10000*(s+1)]\n",
    "    with open('../jsonld/'+this_month+'/'+str(s)+'_from_journals.jsonld', 'w') as outfile:\n",
    "        json.dump(dic_chunk, outfile)"
   ]
  },
  {
   "cell_type": "code",
   "execution_count": null,
   "metadata": {
    "collapsed": true
   },
   "outputs": [],
   "source": []
  },
  {
   "cell_type": "code",
   "execution_count": 93,
   "metadata": {
    "collapsed": true
   },
   "outputs": [],
   "source": [
    "doaj_df.Subjects.fillna('',inplace=True)"
   ]
  },
  {
   "cell_type": "code",
   "execution_count": 205,
   "metadata": {
    "collapsed": false
   },
   "outputs": [],
   "source": [
    "l=doaj_df.Subjects.values"
   ]
  },
  {
   "cell_type": "code",
   "execution_count": 247,
   "metadata": {
    "collapsed": false
   },
   "outputs": [],
   "source": [
    "subj_l=[]\n",
    "for subjs in l:\n",
    "    if len(subjs)>0:\n",
    "        subj_l=subj_l+subjs.split('|')\n",
    "subj_l=[subj.strip() for subj in subj_l]"
   ]
  },
  {
   "cell_type": "code",
   "execution_count": 458,
   "metadata": {
    "collapsed": false
   },
   "outputs": [
    {
     "ename": "SyntaxError",
     "evalue": "invalid syntax (<ipython-input-458-a88317383edb>, line 33)",
     "output_type": "error",
     "traceback": [
      "\u001b[1;36m  File \u001b[1;32m\"<ipython-input-458-a88317383edb>\"\u001b[1;36m, line \u001b[1;32m33\u001b[0m\n\u001b[1;33m    \"Zoology\",\"Agricultural and Biological Sciences\",\u001b[0m\n\u001b[1;37m             ^\u001b[0m\n\u001b[1;31mSyntaxError\u001b[0m\u001b[1;31m:\u001b[0m invalid syntax\n"
     ]
    }
   ],
   "source": [
    "dic={\n",
    "    \"Agriculture\":\"Agricultural and Biological Sciences\",\n",
    "    \"Bibliography. Library science. Information resources\":\"Social Sciences\",\n",
    "    \"Education\":\"Social Sciences\",\n",
    "    \"Geography. Anthropology. Recreation\":{\n",
    "        \"\":\"Social Sciences\",\n",
    "        \"Environmental sciences\":\"Environmental Science\",\n",
    "        },\n",
    "    \"Language and Literature\":\"Arts and Humanities\",\n",
    "    \"Law\":\"Social Sciences\",\n",
    "    \"Medicine\":{\n",
    "        \"\":\"Medicine\",\n",
    "        \"Dentistry\":\"Dentistry\",\n",
    "        \"Nursing\":\"Nursing\",\n",
    "        \"Therapeutics. Pharmacology\":\"Pharmacology, Toxicology and Pharmaceutics\",\n",
    "        \"Pediatrics\":[\"Nursing\",\"Medicine\"]\n",
    "        },\n",
    "    \"Philosophy. Psychology. Religion\":{\n",
    "        \"\":\"Arts and Humanities\",\n",
    "        \"Psychology\":\"Psychology\",\n",
    "        },\n",
    "    \"Science\":{\n",
    "        \"Biology (General)\":{\n",
    "            \"\":\"Agricultural and Biological Sciences\",\n",
    "            \"Genetics\":\"Biochemistry, Genetics and Molecular Biology\",\n",
    "            \"Ecology\":[\"Agricultural and Biological Sciences\",\"Environmental Science\"],\n",
    "            \"Cytology\":\"Genetics and Molecular Biology\",\n",
    "            \"Evolution\":\"Agricultural and Biological Sciences\",\n",
    "            },\n",
    "        \"Mathematics\":\"Mathematics\",\n",
    "        \"Physics\":\"Physics and Astronomy\",\n",
    "        \"Science (General)\":\"Multidisciplinary\",\n",
    "        \"Zoology\",\"Agricultural and Biological Sciences\",\n",
    "        },\n",
    "    \"Social Sciences\":{\n",
    "        \"\":\"Social Sciences\",\n",
    "        },\n",
    "    \"Technology\":{\n",
    "        \"\":\"Engineering\",\n",
    "        \"Engineering\":\"Engineering\",\n",
    "        },\n",
    "    }"
   ]
  },
  {
   "cell_type": "code",
   "execution_count": 459,
   "metadata": {
    "collapsed": false
   },
   "outputs": [],
   "source": [
    "lc={}\n",
    "for l0 in dic.keys():\n",
    "    if isinstance(dic[l0],dict):\n",
    "        for l1 in dic[l0].keys():\n",
    "            if isinstance(dic[l0][l1],dict):\n",
    "                for l2 in dic[l0][l1].keys():\n",
    "                    lc[l0+': '+l1+': '+l2]=dic[l0][l1][l2]\n",
    "            else:\n",
    "                if l1=='':\n",
    "                    lc[l0]=dic[l0][l1]\n",
    "                else:\n",
    "                    lc[l0+': '+l1]=dic[l0][l1]\n",
    "\n",
    "    else:\n",
    "        lc[l0]=dic[l0]\n"
   ]
  },
  {
   "cell_type": "code",
   "execution_count": 457,
   "metadata": {
    "collapsed": false
   },
   "outputs": [
    {
     "data": {
      "text/plain": [
       "[('Social Sciences', 3751),\n",
       " ('Medicine', 2456),\n",
       " ('Arts and Humanities', 1412),\n",
       " ('Engineering', 1395),\n",
       " ('Agricultural and Biological Sciences', 584),\n",
       " ('Mathematics', 405),\n",
       " ('Science: Biology (General)', 261),\n",
       " ('Environmental Science', 227),\n",
       " ('Psychology', 203),\n",
       " ('Physics and Astronomy', 183),\n",
       " ('Multidisciplinary', 162),\n",
       " ('Nursing', 145),\n",
       " ('Science', 111),\n",
       " ('Pharmacology, Toxicology and Pharmaceutics', 103),\n",
       " ('General Works', 102),\n",
       " ('Science: Chemistry', 102),\n",
       " ('History (General) and history of Europe: History (General)', 98),\n",
       " ('General Works: History of scholarship and learning. The humanities', 92),\n",
       " ('Dentistry', 90),\n",
       " ('Science: Zoology', 82),\n",
       " ('Science: Geology', 80),\n",
       " ('Biochemistry, Genetics and Molecular Biology', 73),\n",
       " ('History America: Latin America. Spanish America', 72),\n",
       " ('Science: Botany', 72),\n",
       " ('Fine Arts: Arts in general', 72),\n",
       " ('Political science: Political science (General)', 71),\n",
       " ('Auxiliary sciences of history: Archaeology', 66),\n",
       " ('Fine Arts: Architecture', 66),\n",
       " ('Political science: Political institutions and public administration (General)',\n",
       "  57),\n",
       " ('Science: Microbiology', 56),\n",
       " ('Political science', 56),\n",
       " ('Political science: International relations', 50),\n",
       " ('Science: Chemistry: Organic chemistry: Biochemistry', 40),\n",
       " ('History (General) and history of Europe', 38),\n",
       " ('Genetics and Molecular Biology', 31),\n",
       " ('Fine Arts: Visual arts', 30),\n",
       " ('Fine Arts', 23),\n",
       " ('Fine Arts: Arts in general: History of the arts', 21),\n",
       " ('Fine Arts: Architecture: Aesthetics of cities. City planning and beautifying',\n",
       "  21),\n",
       " ('History (General) and history of Europe: History (General): Medieval history',\n",
       "  21),\n",
       " ('Music and books on Music: Music', 21),\n",
       " ('Science: Natural history (General): General. Including nature conservation, geographical distribution',\n",
       "  20),\n",
       " ('Science: Physiology', 19),\n",
       " ('History (General) and history of Europe: History (General): Modern history, 1453-',\n",
       "  18),\n",
       " ('Military Science', 17),\n",
       " ('Political science: Colonies and colonization. Emigration and immigration. International migration',\n",
       "  15),\n",
       " ('Fine Arts: Drawing. Design. Illustration', 15),\n",
       " ('Science: Chemistry: Analytical chemistry', 15),\n",
       " ('History (General) and history of Europe: History of Asia', 13),\n",
       " ('Science: Human anatomy', 12),\n",
       " ('Naval Science: Naval architecture. Shipbuilding. Marine engineering', 12),\n",
       " ('Science: Astronomy', 12),\n",
       " ('History (General) and history of Europe: History of Spain', 11),\n",
       " ('Political science: Political theory', 11),\n",
       " ('Science: Physiology: Neurophysiology and neuropsychology', 10),\n",
       " ('History (General) and history of Europe: History of Africa', 10),\n",
       " ('Science: Chemistry: Inorganic chemistry', 10),\n",
       " ('Science: Botany: Plant ecology', 9),\n",
       " ('Science: Chemistry: Organic chemistry', 9),\n",
       " ('Auxiliary sciences of history: History of Civilization', 9),\n",
       " ('History (General) and history of Europe: History (General): Ancient history',\n",
       "  9),\n",
       " ('Science: Astronomy: Geodesy', 9),\n",
       " ('General Works: Museums. Collectors and collecting', 9),\n",
       " ('Naval Science', 7),\n",
       " ('Science: Geology: Paleontology', 7),\n",
       " ('Science: Biology (General): Reproduction', 7),\n",
       " ('Fine Arts: Architecture: Architectural drawing and design', 7),\n",
       " ('Music and books on Music: Musical instruction and study', 7),\n",
       " ('History (General) and history of Europe: History of the Greco-Roman World',\n",
       "  7),\n",
       " ('History (General) and history of Europe: History of Italy', 6),\n",
       " ('History (General) and history of Europe: History of Eastern Europe', 6),\n",
       " ('Science: Geology: Dynamic and structural geology', 6),\n",
       " ('Science: Geology: Stratigraphy', 6),\n",
       " ('Science: Chemistry: Crystallography', 6),\n",
       " ('Science: Physiology: Animal biochemistry', 6),\n",
       " ('Political science: Political institutions and public administration - Asia (Asian studies only)',\n",
       "  5),\n",
       " ('History (General) and history of Europe: History of Balkan Peninsula', 5),\n",
       " ('History America', 5),\n",
       " ('History (General) and history of Europe: History (General): Modern history, 1453-: 1789-',\n",
       "  4),\n",
       " ('History (General) and history of Europe: History of Great Britain', 4),\n",
       " ('Science: Microbiology: Microbial ecology', 4),\n",
       " ('Science: Chemistry: Physical and theoretical chemistry', 4),\n",
       " ('Science: Geology: Mineralogy', 4),\n",
       " ('Science: Biology (General): Life', 4),\n",
       " ('Science: Astronomy: Astrophysics', 4),\n",
       " ('History (General) and history of Europe: History of Russia. Soviet Union. Former Soviet Republics',\n",
       "  4),\n",
       " ('Auxiliary sciences of history: Diplomatics. Archives. Seals', 4),\n",
       " ('Science: Geology: Petrology', 4),\n",
       " ('History (General) and history of Europe: History of Greece', 4),\n",
       " ('Music and books on Music: Literature on music', 3),\n",
       " ('Science: Chemistry: General. Including alchemy', 3),\n",
       " ('Auxiliary sciences of history', 3),\n",
       " ('Music and books on Music', 3),\n",
       " ('History America: America', 3),\n",
       " ('History (General) and history of Europe: History of Central Europe', 2),\n",
       " ('History (General) and history of Europe: History (General): Modern history, 1453-: 1789-: Europe (General)',\n",
       "  2),\n",
       " ('History (General) and history of Europe: History of Portugal', 2),\n",
       " ('History (General) and history of Europe: History of Oceania (South Seas)',\n",
       "  2),\n",
       " ('Science: Natural history (General): Microscopy', 2),\n",
       " ('Science: Natural history (General)', 2),\n",
       " ('History America: United States', 2),\n",
       " ('History (General) and history of Europe: History of Germany', 2),\n",
       " ('History (General) and history of Europe: History of Northern Europe. Scandinavia',\n",
       "  2),\n",
       " ('History (General) and history of Europe: History of France', 2),\n",
       " ('Science: Biology (General): Economic biology', 1),\n",
       " ('General Works: Academies and learned societies', 1),\n",
       " ('History (General) and history of Europe: History of Austria. Liechtenstein. Hungary. Czechoslovakia',\n",
       "  1),\n",
       " ('History America: United States local history', 1),\n",
       " ('General Works: Periodicals', 1),\n",
       " ('History (General) and history of Europe: History of Northern Europe. Scandinavia: Norway',\n",
       "  1),\n",
       " ('Fine Arts: Decorative arts', 1),\n",
       " ('Fine Arts: Print media: Printmaking and engraving: Conservation and restoration of prints',\n",
       "  1),\n",
       " ('History (General) and history of Europe: History of Low Countries - Benelux Countries',\n",
       "  1),\n",
       " ('Fine Arts: Painting', 1),\n",
       " ('Fine Arts: Print media: Printmaking and engraving', 1),\n",
       " ('History (General) and history of Europe: History of Austria. Liechtenstein. Hungary. Czechoslovakia: Hungary',\n",
       "  1)]"
      ]
     },
     "execution_count": 457,
     "metadata": {},
     "output_type": "execute_result"
    }
   ],
   "source": [
    "subj_clean=[]\n",
    "for subj in subj_l:\n",
    "    in_dic=0\n",
    "    l=subj.split(':')\n",
    "    for i in range(len(l)):\n",
    "        key=':'.join(l[0:len(l)-i])\n",
    "        if key in lc.keys():\n",
    "            in_dic=1\n",
    "            if isinstance(lc[key],basestring):\n",
    "                subj_clean.append(lc[key])\n",
    "            else:\n",
    "                for s in lc[key]:\n",
    "                    subj_clean.append(s)\n",
    "            break\n",
    "    if in_dic==0:\n",
    "        subj_clean.append(subj)\n",
    "\n",
    "counter=collections.Counter(subj_clean)\n",
    "counter.most_common()"
   ]
  },
  {
   "cell_type": "code",
   "execution_count": 454,
   "metadata": {
    "collapsed": false
   },
   "outputs": [
    {
     "data": {
      "text/plain": [
       "131"
      ]
     },
     "execution_count": 454,
     "metadata": {},
     "output_type": "execute_result"
    }
   ],
   "source": [
    "len(counter)"
   ]
  },
  {
   "cell_type": "code",
   "execution_count": null,
   "metadata": {
    "collapsed": true
   },
   "outputs": [],
   "source": []
  }
 ],
 "metadata": {
  "anaconda-cloud": {},
  "kernelspec": {
   "display_name": "Python [Root]",
   "language": "python",
   "name": "Python [Root]"
  },
  "language_info": {
   "codemirror_mode": {
    "name": "ipython",
    "version": 2
   },
   "file_extension": ".py",
   "mimetype": "text/x-python",
   "name": "python",
   "nbconvert_exporter": "python",
   "pygments_lexer": "ipython2",
   "version": "2.7.12"
  }
 },
 "nbformat": 4,
 "nbformat_minor": 0
}
