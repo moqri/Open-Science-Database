{
 "cells": [
  {
   "cell_type": "code",
   "execution_count": 8,
   "metadata": {
    "collapsed": true
   },
   "outputs": [],
   "source": [
    "import os, io, json, numpy as np, codecs\n",
    "import pandas as pd\n",
    "import pickle\n",
    "import urllib.request\n"
   ]
  },
  {
   "cell_type": "code",
   "execution_count": 5,
   "metadata": {
    "collapsed": true
   },
   "outputs": [],
   "source": [
    "this_month='1711'\n",
    "data_path='../data/'+this_month"
   ]
  },
  {
   "cell_type": "code",
   "execution_count": 12,
   "metadata": {
    "collapsed": true
   },
   "outputs": [],
   "source": [
    "    url=\"http://api.crossref.org/journals?rows=1\"\n",
    "    response = urllib.request.urlopen(url)\n",
    "    html = response.read()    \n",
    "    json_result=json.loads(html)\n",
    "    count=json_result['message']['total-results']"
   ]
  },
  {
   "cell_type": "code",
   "execution_count": 41,
   "metadata": {
    "collapsed": false
   },
   "outputs": [
    {
     "name": "stdout",
     "output_type": "stream",
     "text": [
      "0,1,2,3,4,5,6,7,8,9,10,11,12,13,14,15,16,17,18,19,20,21,22,23,24,25,26,27,28,29,30,31,32,33,34,35,36,37,38,39,40,41,42,43,44,45,46,47,48,49,50,51,52,53,54,55,56,57,58,"
     ]
    }
   ],
   "source": [
    "dic=[]\n",
    "for it in range(int(count/1000)+1): # change\n",
    "    print (it, end=','),\n",
    "    offset = it * 1000\n",
    "    p={'rows' : '1000', 'offset' :str(offset),'mailto':'mahdi.moqri@gmail.com'}\n",
    "    parameters=urllib.parse.urlencode(p)\n",
    "    url='http://api.crossref.org/journals?'+parameters\n",
    "    response = urllib.request.urlopen(url).read()\n",
    "    json_result=json.loads(response)\n",
    "    items=json_result['message']['items']\n",
    "    for item in items:\n",
    "        if len(item['ISSN'])>0 and 'title' in item and 'publisher' in item: \n",
    "            journal={}\n",
    "            journal['e:title']=item['title'].strip()\n",
    "            journal['e:publisher']=item['publisher'] \n",
    "            journal['e:issn']=item['ISSN']\n",
    "            journal['e:subjects']=[]\n",
    "            for subject in item['subjects']:\n",
    "                journal['e:subjects'].append(subject['name'].strip())\n",
    "            if journal not in dic:\n",
    "                dic.append(journal)\n",
    "dic_c=dic      "
   ]
  },
  {
   "cell_type": "code",
   "execution_count": 26,
   "metadata": {},
   "outputs": [
    {
     "data": {
      "text/plain": [
       "58342"
      ]
     },
     "execution_count": 26,
     "metadata": {},
     "output_type": "execute_result"
    }
   ],
   "source": [
    "count"
   ]
  },
  {
   "cell_type": "code",
   "execution_count": 42,
   "metadata": {},
   "outputs": [],
   "source": [
    "with open('../store/wd/journals.tab','w') as f:\n",
    "    for j in dic:\n",
    "        f.write (','.join(j['e:issn'])+'\\t'+j['e:title']+'\\t'+j['e:publisher']+'\\n')"
   ]
  },
  {
   "cell_type": "code",
   "execution_count": 59,
   "metadata": {},
   "outputs": [],
   "source": [
    "with open ('../store/wd/wd_issns.csv') as f:\n",
    "    wd_issns=f.readlines()\n",
    "    wd_issns=[issn.strip('\\n') for issn in wd_issns]\n",
    "with open('../store/wd/missing.tab','w') as f:\n",
    "    for j in dic:\n",
    "        if j['e:issn'][0] in wd_issns:\n",
    "            continue\n",
    "        if len(j['e:issn'])==2 and j['e:issn'][1] in wd_issns:\n",
    "            continue\n",
    "        f.write (','.join(j['e:issn'])+'\\t'+j['e:title']+'\\t'+j['e:publisher']+'\\n')"
   ]
  },
  {
   "cell_type": "code",
   "execution_count": 13,
   "metadata": {
    "collapsed": false
   },
   "outputs": [],
   "source": [
    "with open(data_path +'/journals.pkl', 'wb') as f:\n",
    "    pickle.dump(dic, f, pickle.HIGHEST_PROTOCOL)"
   ]
  },
  {
   "cell_type": "code",
   "execution_count": 14,
   "metadata": {
    "collapsed": false
   },
   "outputs": [],
   "source": [
    "subs=[]\n",
    "for j in dic:\n",
    "    for sub in j['e:subjects']:\n",
    "        if sub not in subs:\n",
    "            subs.append(sub)"
   ]
  },
  {
   "cell_type": "code",
   "execution_count": 15,
   "metadata": {
    "collapsed": false
   },
   "outputs": [
    {
     "data": {
      "text/plain": [
       "330"
      ]
     },
     "execution_count": 15,
     "metadata": {},
     "output_type": "execute_result"
    }
   ],
   "source": [
    "len(subs)"
   ]
  }
 ],
 "metadata": {
  "anaconda-cloud": {},
  "kernelspec": {
   "display_name": "Python 3",
   "language": "python",
   "name": "python3"
  },
  "language_info": {
   "codemirror_mode": {
    "name": "ipython",
    "version": 3
   },
   "file_extension": ".py",
   "mimetype": "text/x-python",
   "name": "python",
   "nbconvert_exporter": "python",
   "pygments_lexer": "ipython3",
   "version": "3.6.5"
  }
 },
 "nbformat": 4,
 "nbformat_minor": 2
}
